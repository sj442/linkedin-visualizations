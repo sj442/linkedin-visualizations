{
  "nbformat": 4,
  "nbformat_minor": 0,
  "metadata": {
    "colab": {
      "provenance": [],
      "gpuType": "T4",
      "authorship_tag": "ABX9TyOpXpNNEHN/Y+rIB+XEIU5n",
      "include_colab_link": true
    },
    "kernelspec": {
      "name": "python3",
      "display_name": "Python 3"
    },
    "language_info": {
      "name": "python"
    },
    "accelerator": "GPU"
  },
  "cells": [
    {
      "cell_type": "markdown",
      "metadata": {
        "id": "view-in-github",
        "colab_type": "text"
      },
      "source": [
        "<a href=\"https://colab.research.google.com/github/sj442/linkedin-visualizations/blob/main/Linkedin_Connections.ipynb\" target=\"_parent\"><img src=\"https://colab.research.google.com/assets/colab-badge.svg\" alt=\"Open In Colab\"/></a>"
      ]
    },
    {
      "cell_type": "markdown",
      "source": [
        "# Imports"
      ],
      "metadata": {
        "id": "W1nwJLPtiF8D"
      }
    },
    {
      "cell_type": "code",
      "execution_count": 1,
      "metadata": {
        "id": "m7Io9M5sw3Ya"
      },
      "outputs": [],
      "source": [
        "import pandas as pd\n",
        "import numpy as np\n",
        "import csv"
      ]
    },
    {
      "cell_type": "markdown",
      "source": [
        "## Privacy disclaimer"
      ],
      "metadata": {
        "id": "9Vl4biXDkAyp"
      }
    },
    {
      "cell_type": "markdown",
      "source": [
        "**Note**: I have intentionally removed all print functions that identified individuals in my network with their name, role and company.\n",
        "\n",
        "In the visualizations, I will only display either an individual's role or the comapny they are affiliated with, to avoid giving out information that could be traced back to them."
      ],
      "metadata": {
        "id": "7898ZkMwiKgQ"
      }
    },
    {
      "cell_type": "markdown",
      "source": [
        "# Dataframe Import\n"
      ],
      "metadata": {
        "id": "-ucLhPIakHCZ"
      }
    },
    {
      "cell_type": "code",
      "source": [
        "df = pd.read_csv('/content/sample_data/Connections.csv', skiprows=1)"
      ],
      "metadata": {
        "id": "uMJdueGtyPcu"
      },
      "execution_count": 2,
      "outputs": []
    },
    {
      "cell_type": "code",
      "source": [
        "df.info()"
      ],
      "metadata": {
        "colab": {
          "base_uri": "https://localhost:8080/"
        },
        "id": "qXP2wY02zdn7",
        "outputId": "5646e3d3-386e-45cc-8d38-41e44e90fdb8"
      },
      "execution_count": 7,
      "outputs": [
        {
          "output_type": "stream",
          "name": "stdout",
          "text": [
            "<class 'pandas.core.frame.DataFrame'>\n",
            "RangeIndex: 601 entries, 0 to 600\n",
            "Data columns (total 7 columns):\n",
            " #   Column         Non-Null Count  Dtype \n",
            "---  ------         --------------  ----- \n",
            " 0   First Name     601 non-null    object\n",
            " 1   Last Name      601 non-null    object\n",
            " 2   URL            601 non-null    object\n",
            " 3   Email Address  11 non-null     object\n",
            " 4   Company        598 non-null    object\n",
            " 5   Position       598 non-null    object\n",
            " 6   Connected On   601 non-null    object\n",
            "dtypes: object(7)\n",
            "memory usage: 33.0+ KB\n"
          ]
        }
      ]
    },
    {
      "cell_type": "code",
      "source": [
        "df = df.dropna(subset=['Position'])\n",
        "df.info()"
      ],
      "metadata": {
        "colab": {
          "base_uri": "https://localhost:8080/"
        },
        "id": "U1Qw0N9C3pTd",
        "outputId": "e6a6eec9-4256-4b60-b687-5502e4aad6db"
      },
      "execution_count": 3,
      "outputs": [
        {
          "output_type": "stream",
          "name": "stdout",
          "text": [
            "<class 'pandas.core.frame.DataFrame'>\n",
            "Index: 598 entries, 0 to 600\n",
            "Data columns (total 7 columns):\n",
            " #   Column         Non-Null Count  Dtype \n",
            "---  ------         --------------  ----- \n",
            " 0   First Name     598 non-null    object\n",
            " 1   Last Name      598 non-null    object\n",
            " 2   URL            598 non-null    object\n",
            " 3   Email Address  11 non-null     object\n",
            " 4   Company        598 non-null    object\n",
            " 5   Position       598 non-null    object\n",
            " 6   Connected On   598 non-null    object\n",
            "dtypes: object(7)\n",
            "memory usage: 37.4+ KB\n"
          ]
        }
      ]
    },
    {
      "cell_type": "code",
      "source": [
        "print(df.columns)"
      ],
      "metadata": {
        "colab": {
          "base_uri": "https://localhost:8080/"
        },
        "id": "AF7lxh74z1Nd",
        "outputId": "fb7cf128-357d-496d-8247-746a372c1538"
      },
      "execution_count": 11,
      "outputs": [
        {
          "output_type": "stream",
          "name": "stdout",
          "text": [
            "Index(['First Name', 'Last Name', 'URL', 'Email Address', 'Company',\n",
            "       'Position', 'Connected On'],\n",
            "      dtype='object')\n"
          ]
        }
      ]
    },
    {
      "cell_type": "code",
      "source": [
        "# Dropping emails column since it is not needed in analysis and is missing for most connections\n",
        "df = df.drop('Email Address', axis=1)"
      ],
      "metadata": {
        "id": "ln3BMngg1CGC"
      },
      "execution_count": 4,
      "outputs": []
    },
    {
      "cell_type": "code",
      "source": [
        "# Number of unique positions held by individuals\n",
        "df.Position.nunique()"
      ],
      "metadata": {
        "colab": {
          "base_uri": "https://localhost:8080/"
        },
        "id": "iTVIDOzY34xU",
        "outputId": "de544cac-a751-4d3c-f92a-75eea731fe6a"
      },
      "execution_count": 10,
      "outputs": [
        {
          "output_type": "execute_result",
          "data": {
            "text/plain": [
              "457"
            ]
          },
          "metadata": {},
          "execution_count": 10
        }
      ]
    },
    {
      "cell_type": "code",
      "source": [
        "# Apply a function to consolidate the same roles which are worded differently. Eg: Founder|CEO, Founder & CEO\n",
        "df['Position'] = df['Position'].apply(consolidate_positions)"
      ],
      "metadata": {
        "id": "Lny3dln8qjai"
      },
      "execution_count": 12,
      "outputs": []
    },
    {
      "cell_type": "code",
      "source": [
        "# Applying consolidation for just Founder and Engineer roles reduces the number of unique roles\n",
        "# by 14%\n",
        "df['Position'].nunique()"
      ],
      "metadata": {
        "colab": {
          "base_uri": "https://localhost:8080/"
        },
        "id": "M5Q-HdLvqqsh",
        "outputId": "f5d80ca7-c37f-40c4-c74f-56cdd103913e"
      },
      "execution_count": 12,
      "outputs": [
        {
          "output_type": "execute_result",
          "data": {
            "text/plain": [
              "393"
            ]
          },
          "metadata": {},
          "execution_count": 12
        }
      ]
    },
    {
      "cell_type": "code",
      "source": [
        "# Number of unique companies associated with my connections\n",
        "df.Company.nunique()"
      ],
      "metadata": {
        "colab": {
          "base_uri": "https://localhost:8080/"
        },
        "id": "_v5RKQjz4KKj",
        "outputId": "d6d7b60f-8483-40f9-8772-396c8272f8fd"
      },
      "execution_count": 13,
      "outputs": [
        {
          "output_type": "execute_result",
          "data": {
            "text/plain": [
              "486"
            ]
          },
          "metadata": {},
          "execution_count": 13
        }
      ]
    },
    {
      "cell_type": "markdown",
      "source": [
        "# Model generated grouping"
      ],
      "metadata": {
        "id": "OL7IZzvzu1xo"
      }
    },
    {
      "cell_type": "markdown",
      "source": [
        "We will use a huggingface model and perform zero shot classfiication to classify the roles into a predefined list of broad role categories or industris.\n",
        "\n"
      ],
      "metadata": {
        "id": "iW2mzUVPu8ep"
      }
    },
    {
      "cell_type": "code",
      "source": [
        "from transformers import pipeline\n",
        "import torch\n",
        "\n",
        "# Check if GPU is available and use to speed up the classification\n",
        "device = 0 if torch.cuda.is_available() else -1\n",
        "\n",
        "classifier = pipeline(\"zero-shot-classification\",\n",
        "                      model=\"MoritzLaurer/DeBERTa-v3-base-mnli-fever-anli\",\n",
        "                      device=device,\n",
        "                      truncation=True,\n",
        "                      max_length=64)\n",
        "\n",
        "labels = ['Academia', 'HR', 'Internship', 'Data', 'AI/ML', 'QA', 'Engineering', 'Sales', 'Marketing', 'UX', 'Finance',\n",
        "          'Operations', 'Product', 'Founder', 'Research', 'Management', 'Medicine', 'Legal', 'Architecture',\n",
        "          'Consulting', 'Creative', 'Government', 'Nonprofit', 'Retired']\n",
        "\n",
        "def classify_batch(positions, labels, batch_size=8):\n",
        "    results = []\n",
        "    for i in range(0, len(positions), batch_size):\n",
        "        batch = positions[i:i + batch_size]\n",
        "        batch = list(map(lambda x: x.lower(), batch))\n",
        "        batch_results = classifier(batch, labels, multi_label=True)\n",
        "        if isinstance(batch_results, dict):  # happens when only 1 item is present\n",
        "            batch_results = [batch_results]\n",
        "        results.extend([res['labels'][0] for res in batch_results])\n",
        "    return results\n",
        "\n",
        "def classify_position(position):\n",
        "    position = position.lower()\n",
        "    result = classifier(position, labels)\n",
        "    return result['labels'][0]"
      ],
      "metadata": {
        "id": "Xiuo95Gfgnvt"
      },
      "execution_count": null,
      "outputs": []
    },
    {
      "cell_type": "code",
      "source": [
        "import pickle\n",
        "from google.colab import files\n",
        "# We will save the position categories locally to avoid running the above computation repeatedly\n",
        "\n",
        "df['Position_Category'] = classify_batch(df['Position'].tolist(), labels)\n",
        "\n",
        "# Save to Colab local\n",
        "with open('classified.pkl', 'wb') as f:\n",
        "    pickle.dump(df['Position_Category'].tolist(), f)\n",
        "\n",
        "# Download to local machine\n",
        "files.download('classified.pkl')"
      ],
      "metadata": {
        "id": "Jw3oubwrt6Gg"
      },
      "execution_count": null,
      "outputs": []
    },
    {
      "cell_type": "code",
      "source": [
        "from google.colab import files\n",
        "\n",
        "# Upload the file from local machine\n",
        "uploaded = files.upload()"
      ],
      "metadata": {
        "id": "0xwSEop5FamB"
      },
      "execution_count": null,
      "outputs": []
    },
    {
      "cell_type": "code",
      "source": [
        "import pickle\n",
        "from google.colab import files\n",
        "\n",
        "# Load the position categories into the dataframe\n",
        "with open('classified.pkl', 'rb') as f:\n",
        "    df['Position_Category'] = pickle.load(f)"
      ],
      "metadata": {
        "collapsed": true,
        "id": "GNf_ACVOMZ_2"
      },
      "execution_count": 15,
      "outputs": []
    },
    {
      "cell_type": "code",
      "source": [
        "df['Position_Category'].value_counts()"
      ],
      "metadata": {
        "colab": {
          "base_uri": "https://localhost:8080/",
          "height": 868
        },
        "id": "7DcmDXU_xABZ",
        "outputId": "bee8f9ef-ac46-4fbb-a48d-0bbd085fc322"
      },
      "execution_count": 17,
      "outputs": [
        {
          "output_type": "execute_result",
          "data": {
            "text/plain": [
              "Position_Category\n",
              "Management      249\n",
              "Engineering      85\n",
              "Founder          54\n",
              "Academia         28\n",
              "Consulting       27\n",
              "Data             22\n",
              "Creative         16\n",
              "Research         15\n",
              "Government       15\n",
              "AI/ML            15\n",
              "Product          13\n",
              "Finance           8\n",
              "Internship        7\n",
              "UX                7\n",
              "QA                7\n",
              "Marketing         6\n",
              "Nonprofit         5\n",
              "HR                4\n",
              "Operations        4\n",
              "Architecture      3\n",
              "Medicine          3\n",
              "Retired           2\n",
              "Sales             2\n",
              "Legal             1\n",
              "Name: count, dtype: int64"
            ],
            "text/html": [
              "<div>\n",
              "<style scoped>\n",
              "    .dataframe tbody tr th:only-of-type {\n",
              "        vertical-align: middle;\n",
              "    }\n",
              "\n",
              "    .dataframe tbody tr th {\n",
              "        vertical-align: top;\n",
              "    }\n",
              "\n",
              "    .dataframe thead th {\n",
              "        text-align: right;\n",
              "    }\n",
              "</style>\n",
              "<table border=\"1\" class=\"dataframe\">\n",
              "  <thead>\n",
              "    <tr style=\"text-align: right;\">\n",
              "      <th></th>\n",
              "      <th>count</th>\n",
              "    </tr>\n",
              "    <tr>\n",
              "      <th>Position_Category</th>\n",
              "      <th></th>\n",
              "    </tr>\n",
              "  </thead>\n",
              "  <tbody>\n",
              "    <tr>\n",
              "      <th>Management</th>\n",
              "      <td>249</td>\n",
              "    </tr>\n",
              "    <tr>\n",
              "      <th>Engineering</th>\n",
              "      <td>85</td>\n",
              "    </tr>\n",
              "    <tr>\n",
              "      <th>Founder</th>\n",
              "      <td>54</td>\n",
              "    </tr>\n",
              "    <tr>\n",
              "      <th>Academia</th>\n",
              "      <td>28</td>\n",
              "    </tr>\n",
              "    <tr>\n",
              "      <th>Consulting</th>\n",
              "      <td>27</td>\n",
              "    </tr>\n",
              "    <tr>\n",
              "      <th>Data</th>\n",
              "      <td>22</td>\n",
              "    </tr>\n",
              "    <tr>\n",
              "      <th>Creative</th>\n",
              "      <td>16</td>\n",
              "    </tr>\n",
              "    <tr>\n",
              "      <th>Research</th>\n",
              "      <td>15</td>\n",
              "    </tr>\n",
              "    <tr>\n",
              "      <th>Government</th>\n",
              "      <td>15</td>\n",
              "    </tr>\n",
              "    <tr>\n",
              "      <th>AI/ML</th>\n",
              "      <td>15</td>\n",
              "    </tr>\n",
              "    <tr>\n",
              "      <th>Product</th>\n",
              "      <td>13</td>\n",
              "    </tr>\n",
              "    <tr>\n",
              "      <th>Finance</th>\n",
              "      <td>8</td>\n",
              "    </tr>\n",
              "    <tr>\n",
              "      <th>Internship</th>\n",
              "      <td>7</td>\n",
              "    </tr>\n",
              "    <tr>\n",
              "      <th>UX</th>\n",
              "      <td>7</td>\n",
              "    </tr>\n",
              "    <tr>\n",
              "      <th>QA</th>\n",
              "      <td>7</td>\n",
              "    </tr>\n",
              "    <tr>\n",
              "      <th>Marketing</th>\n",
              "      <td>6</td>\n",
              "    </tr>\n",
              "    <tr>\n",
              "      <th>Nonprofit</th>\n",
              "      <td>5</td>\n",
              "    </tr>\n",
              "    <tr>\n",
              "      <th>HR</th>\n",
              "      <td>4</td>\n",
              "    </tr>\n",
              "    <tr>\n",
              "      <th>Operations</th>\n",
              "      <td>4</td>\n",
              "    </tr>\n",
              "    <tr>\n",
              "      <th>Architecture</th>\n",
              "      <td>3</td>\n",
              "    </tr>\n",
              "    <tr>\n",
              "      <th>Medicine</th>\n",
              "      <td>3</td>\n",
              "    </tr>\n",
              "    <tr>\n",
              "      <th>Retired</th>\n",
              "      <td>2</td>\n",
              "    </tr>\n",
              "    <tr>\n",
              "      <th>Sales</th>\n",
              "      <td>2</td>\n",
              "    </tr>\n",
              "    <tr>\n",
              "      <th>Legal</th>\n",
              "      <td>1</td>\n",
              "    </tr>\n",
              "  </tbody>\n",
              "</table>\n",
              "</div><br><label><b>dtype:</b> int64</label>"
            ]
          },
          "metadata": {},
          "execution_count": 17
        }
      ]
    },
    {
      "cell_type": "markdown",
      "source": [
        "Too many roles have been categorized as Management and Engineering. We will attempt to refine the categorization before generating visualizations on it"
      ],
      "metadata": {
        "id": "yvBjje_sw3gP"
      }
    },
    {
      "cell_type": "code",
      "source": [
        "df[\"Position\"] = df[\"Position\"].astype(str)\n",
        "df[\"Position_Category\"] = df.apply(lambda row: categorize_engineering(row.Position) if row.Position == 'Engineering' else row.Position_Category, axis = 1)\n",
        "df[\"Position_Category\"] = df.apply(lambda row: categorize_management(row.Position) if row.Position_Category == 'Management' else row.Position_Category, axis = 1)"
      ],
      "metadata": {
        "id": "CQ4dejvwjIRW"
      },
      "execution_count": 18,
      "outputs": []
    },
    {
      "cell_type": "code",
      "source": [
        "df['Position_Category'].value_counts()"
      ],
      "metadata": {
        "colab": {
          "base_uri": "https://localhost:8080/",
          "height": 899
        },
        "id": "RQo7Axj_lDAF",
        "outputId": "f10a3f53-cad9-443f-aa78-7b94dcc98083"
      },
      "execution_count": 19,
      "outputs": [
        {
          "output_type": "execute_result",
          "data": {
            "text/plain": [
              "Position_Category\n",
              "Leadership      122\n",
              "Management       96\n",
              "Founder          85\n",
              "Engineering      85\n",
              "Academia         28\n",
              "Consulting       27\n",
              "Data             22\n",
              "Creative         16\n",
              "Research         15\n",
              "Government       15\n",
              "AI/ML            15\n",
              "Product          13\n",
              "Finance           8\n",
              "Internship        7\n",
              "UX                7\n",
              "QA                7\n",
              "Marketing         6\n",
              "Nonprofit         5\n",
              "HR                4\n",
              "Operations        4\n",
              "Architecture      3\n",
              "Medicine          3\n",
              "Retired           2\n",
              "Sales             2\n",
              "Legal             1\n",
              "Name: count, dtype: int64"
            ],
            "text/html": [
              "<div>\n",
              "<style scoped>\n",
              "    .dataframe tbody tr th:only-of-type {\n",
              "        vertical-align: middle;\n",
              "    }\n",
              "\n",
              "    .dataframe tbody tr th {\n",
              "        vertical-align: top;\n",
              "    }\n",
              "\n",
              "    .dataframe thead th {\n",
              "        text-align: right;\n",
              "    }\n",
              "</style>\n",
              "<table border=\"1\" class=\"dataframe\">\n",
              "  <thead>\n",
              "    <tr style=\"text-align: right;\">\n",
              "      <th></th>\n",
              "      <th>count</th>\n",
              "    </tr>\n",
              "    <tr>\n",
              "      <th>Position_Category</th>\n",
              "      <th></th>\n",
              "    </tr>\n",
              "  </thead>\n",
              "  <tbody>\n",
              "    <tr>\n",
              "      <th>Leadership</th>\n",
              "      <td>122</td>\n",
              "    </tr>\n",
              "    <tr>\n",
              "      <th>Management</th>\n",
              "      <td>96</td>\n",
              "    </tr>\n",
              "    <tr>\n",
              "      <th>Founder</th>\n",
              "      <td>85</td>\n",
              "    </tr>\n",
              "    <tr>\n",
              "      <th>Engineering</th>\n",
              "      <td>85</td>\n",
              "    </tr>\n",
              "    <tr>\n",
              "      <th>Academia</th>\n",
              "      <td>28</td>\n",
              "    </tr>\n",
              "    <tr>\n",
              "      <th>Consulting</th>\n",
              "      <td>27</td>\n",
              "    </tr>\n",
              "    <tr>\n",
              "      <th>Data</th>\n",
              "      <td>22</td>\n",
              "    </tr>\n",
              "    <tr>\n",
              "      <th>Creative</th>\n",
              "      <td>16</td>\n",
              "    </tr>\n",
              "    <tr>\n",
              "      <th>Research</th>\n",
              "      <td>15</td>\n",
              "    </tr>\n",
              "    <tr>\n",
              "      <th>Government</th>\n",
              "      <td>15</td>\n",
              "    </tr>\n",
              "    <tr>\n",
              "      <th>AI/ML</th>\n",
              "      <td>15</td>\n",
              "    </tr>\n",
              "    <tr>\n",
              "      <th>Product</th>\n",
              "      <td>13</td>\n",
              "    </tr>\n",
              "    <tr>\n",
              "      <th>Finance</th>\n",
              "      <td>8</td>\n",
              "    </tr>\n",
              "    <tr>\n",
              "      <th>Internship</th>\n",
              "      <td>7</td>\n",
              "    </tr>\n",
              "    <tr>\n",
              "      <th>UX</th>\n",
              "      <td>7</td>\n",
              "    </tr>\n",
              "    <tr>\n",
              "      <th>QA</th>\n",
              "      <td>7</td>\n",
              "    </tr>\n",
              "    <tr>\n",
              "      <th>Marketing</th>\n",
              "      <td>6</td>\n",
              "    </tr>\n",
              "    <tr>\n",
              "      <th>Nonprofit</th>\n",
              "      <td>5</td>\n",
              "    </tr>\n",
              "    <tr>\n",
              "      <th>HR</th>\n",
              "      <td>4</td>\n",
              "    </tr>\n",
              "    <tr>\n",
              "      <th>Operations</th>\n",
              "      <td>4</td>\n",
              "    </tr>\n",
              "    <tr>\n",
              "      <th>Architecture</th>\n",
              "      <td>3</td>\n",
              "    </tr>\n",
              "    <tr>\n",
              "      <th>Medicine</th>\n",
              "      <td>3</td>\n",
              "    </tr>\n",
              "    <tr>\n",
              "      <th>Retired</th>\n",
              "      <td>2</td>\n",
              "    </tr>\n",
              "    <tr>\n",
              "      <th>Sales</th>\n",
              "      <td>2</td>\n",
              "    </tr>\n",
              "    <tr>\n",
              "      <th>Legal</th>\n",
              "      <td>1</td>\n",
              "    </tr>\n",
              "  </tbody>\n",
              "</table>\n",
              "</div><br><label><b>dtype:</b> int64</label>"
            ]
          },
          "metadata": {},
          "execution_count": 19
        }
      ]
    },
    {
      "cell_type": "markdown",
      "source": [
        "# Create a graph using NetworkX"
      ],
      "metadata": {
        "id": "4F3yiKKqwShj"
      }
    },
    {
      "cell_type": "code",
      "source": [
        "!pip install pyvis"
      ],
      "metadata": {
        "collapsed": true,
        "id": "joaYF9WsdNfS"
      },
      "execution_count": null,
      "outputs": []
    },
    {
      "cell_type": "code",
      "source": [
        "from collections import Counter\n",
        "\n",
        "frequent_roles = Counter(df['Position']).most_common(15)\n",
        "print(frequent_roles)\n",
        "\n",
        "frequent_roles = Counter(df['Position']).most_common(15)\n",
        "res = list(map(lambda x: x[0], frequent_roles))\n",
        "print(res)"
      ],
      "metadata": {
        "colab": {
          "base_uri": "https://localhost:8080/"
        },
        "id": "1FBbOfpHOTiC",
        "outputId": "4035c371-37d0-4d6f-d360-485166bc7779"
      },
      "execution_count": 17,
      "outputs": [
        {
          "output_type": "stream",
          "name": "stdout",
          "text": [
            "[('Founder', 48), ('Software Engineer', 39), ('Founder & Ceo', 22), ('Director', 12), ('Senior Software Engineer', 10), ('Ceo', 8), ('Partner', 8), ('Vice President', 6), ('Product Manager', 5), ('Head Of Product', 5), ('Data Scientist', 4), ('Senior Product Manager', 4), ('Manager', 4), ('Director Of Product Management', 4), ('Managing Director', 4)]\n",
            "['Founder', 'Software Engineer', 'Founder & Ceo', 'Director', 'Senior Software Engineer', 'Ceo', 'Partner', 'Vice President', 'Product Manager', 'Head Of Product', 'Data Scientist', 'Senior Product Manager', 'Manager', 'Director Of Product Management', 'Managing Director']\n"
          ]
        }
      ]
    },
    {
      "cell_type": "code",
      "source": [
        "from pyvis.network import Network\n",
        "import webbrowser\n",
        "from collections import Counter\n",
        "\n",
        "def shorten_label(label, max_len=20):\n",
        "    return label if len(label) <= max_len else label[:max_len] + \"...\"\n",
        "\n",
        "# Build graph\n",
        "net = Network(height='750px', width='100%', notebook=False)\n",
        "\n",
        "net.set_options(\"\"\"\n",
        "var options = {\n",
        "  \"physics\": {\n",
        "    \"solver\": \"barnesHut\",\n",
        "    \"repulsion\": {\n",
        "      \"nodeDistance\": 120,\n",
        "      \"springLength\": 100,\n",
        "      \"springConstant\": 0.04\n",
        "    },\n",
        "    \"stabilization\": {\n",
        "      \"iterations\": 200\n",
        "    }\n",
        "  }\n",
        "}\n",
        "\"\"\")\n",
        "\n",
        "# Count how many people have each role\n",
        "role_counts = Counter(df['Position_Category'])\n",
        "\n",
        "# Add central category nodes\n",
        "for role, count in role_counts.items():\n",
        "\n",
        "    net.add_node(\n",
        "        role,\n",
        "        label=role,\n",
        "        size=15,  # base size + scaled size\n",
        "        color=category_to_color(role),\n",
        "        font={\"color\": \"#000000\", \"size\": 16}\n",
        "    )\n",
        "\n",
        "common_roles_df = df[df[\"Position\"].isin(res)]\n",
        "\n",
        "# Add nodes for frequent roles and edges from central nodes to frequent role nodes\n",
        "for _, row in common_roles_df.iterrows():\n",
        "  position = row['Position']\n",
        "  category = row['Position_Category']\n",
        "  net.add_node(position,\n",
        "               label=shorten_label(position),\n",
        "               title=position,\n",
        "               shape='ellipse',\n",
        "               size=12,\n",
        "               color='orange',  # node background color\n",
        "               font={\n",
        "                   \"face\": \"verdana\",\n",
        "                   \"color\": \"#1f77b4\",\n",
        "                   \"size\": 10,\n",
        "                   \"strokeWidth\": 0\n",
        "                   },\n",
        "               physics=False)\n",
        "  net.add_edge(category, position, length=100)\n",
        "  net.cdn_resources = 'remote'\n",
        "\n",
        "\n",
        "filtered_df = df[~df[\"Position\"].isin(res)]\n",
        "\n",
        "# Add connection nodes and edges\n",
        "for _, row in filtered_df.iterrows():\n",
        "    position = row['Position']\n",
        "    category = row['Position_Category']\n",
        "    net.add_node(position,\n",
        "                 label=shorten_label(position),\n",
        "                 title = position,\n",
        "                 shape='dot',\n",
        "                 color=category_to_color(row['Position_Category']),\n",
        "                 size=12)\n",
        "    net.add_edge(category, position)\n",
        "    net.cdn_resources = 'remote'\n",
        "\n",
        "net.save_graph(\"linkedin_role_network.html\")\n",
        "files.download(\"linkedin_role_network.html\")"
      ],
      "metadata": {
        "colab": {
          "base_uri": "https://localhost:8080/",
          "height": 17
        },
        "collapsed": true,
        "id": "eDAubgp4c_P7",
        "outputId": "01048b36-fa32-47b1-8353-bb030b05938b"
      },
      "execution_count": 23,
      "outputs": [
        {
          "output_type": "display_data",
          "data": {
            "text/plain": [
              "<IPython.core.display.Javascript object>"
            ],
            "application/javascript": [
              "\n",
              "    async function download(id, filename, size) {\n",
              "      if (!google.colab.kernel.accessAllowed) {\n",
              "        return;\n",
              "      }\n",
              "      const div = document.createElement('div');\n",
              "      const label = document.createElement('label');\n",
              "      label.textContent = `Downloading \"${filename}\": `;\n",
              "      div.appendChild(label);\n",
              "      const progress = document.createElement('progress');\n",
              "      progress.max = size;\n",
              "      div.appendChild(progress);\n",
              "      document.body.appendChild(div);\n",
              "\n",
              "      const buffers = [];\n",
              "      let downloaded = 0;\n",
              "\n",
              "      const channel = await google.colab.kernel.comms.open(id);\n",
              "      // Send a message to notify the kernel that we're ready.\n",
              "      channel.send({})\n",
              "\n",
              "      for await (const message of channel.messages) {\n",
              "        // Send a message to notify the kernel that we're ready.\n",
              "        channel.send({})\n",
              "        if (message.buffers) {\n",
              "          for (const buffer of message.buffers) {\n",
              "            buffers.push(buffer);\n",
              "            downloaded += buffer.byteLength;\n",
              "            progress.value = downloaded;\n",
              "          }\n",
              "        }\n",
              "      }\n",
              "      const blob = new Blob(buffers, {type: 'application/binary'});\n",
              "      const a = document.createElement('a');\n",
              "      a.href = window.URL.createObjectURL(blob);\n",
              "      a.download = filename;\n",
              "      div.appendChild(a);\n",
              "      a.click();\n",
              "      div.remove();\n",
              "    }\n",
              "  "
            ]
          },
          "metadata": {}
        },
        {
          "output_type": "display_data",
          "data": {
            "text/plain": [
              "<IPython.core.display.Javascript object>"
            ],
            "application/javascript": [
              "download(\"download_af298f25-6dd2-4cc6-a80d-6a1bca7c9481\", \"linkedin_role_network.html\", 106765)"
            ]
          },
          "metadata": {}
        }
      ]
    },
    {
      "cell_type": "markdown",
      "source": [
        "# Helper functions"
      ],
      "metadata": {
        "id": "dd70nSGmwbiH"
      }
    },
    {
      "cell_type": "code",
      "source": [
        "import matplotlib.pyplot as plt\n",
        "\n",
        "def get_25_colors():\n",
        "    # Combine tab10 and tab20 to get 30 unique colors\n",
        "    cmap1 = plt.get_cmap('tab10')  # 10 colors\n",
        "    cmap2 = plt.get_cmap('tab20')  # 20 colors\n",
        "\n",
        "    colors = []\n",
        "    for i in range(10):\n",
        "        colors.append(cmap1(i))\n",
        "    for i in range(15):  # just take 15 from tab20 to make 25 total\n",
        "        colors.append(cmap2(i))\n",
        "\n",
        "    # Convert RGBA to hex\n",
        "    hex_colors = ['#%02x%02x%02x' % tuple(int(255 * c) for c in color[:3]) for color in colors]\n",
        "    return hex_colors\n",
        "\n",
        "categories = df['Position_Category'].unique()\n",
        "color_list = get_25_colors()\n",
        "category_map = {cat: color_list[i % len(color_list)] for i, cat in enumerate(categories)}\n",
        "\n",
        "def category_to_color(category):\n",
        "    return category_map.get(category, '#999999')  # fallback gray"
      ],
      "metadata": {
        "id": "l0_KoCTUKeHn"
      },
      "execution_count": 19,
      "outputs": []
    },
    {
      "cell_type": "code",
      "source": [
        "import string\n",
        "\n",
        "def consolidate_positions(position):\n",
        "  position = position.lower()\n",
        "  position = consolidate_ceo_roles(position)\n",
        "  position = consolidate_dev_roles(position)\n",
        "  return string.capwords(position)\n",
        "\n",
        "def consolidate_ceo_roles(position):\n",
        "  if (\"founder\" in position) and (\"ceo\" in position):\n",
        "    return \"Founder & CEO\"\n",
        "  elif \"founder\" in position:\n",
        "    return \"Founder\"\n",
        "  elif \"ceo\" in position or \"chief executive officer\" in position:\n",
        "    return \"CEO\"\n",
        "  elif \"co-founder\" in position and \"ceo\" in position:\n",
        "    return \"Co-Founder & CEO\"\n",
        "  elif \"co-founder\" in position:\n",
        "    return \"Co-Founder\"\n",
        "  else:\n",
        "    return position\n",
        "\n",
        "\n",
        "def consolidate_dev_roles(position):\n",
        "  if (\"software development engineer\" in position) or (\"software development engineer i\" in position):\n",
        "    return \"Software Engineer\"\n",
        "  elif \"software development engineer ii\" in position or \"senior software engineer\" in position:\n",
        "    return \"Senior Software Engineer\"\n",
        "  elif \"developer\" in position or \"mobile\" in position or \"ios\" in position or \"android\" in position:\n",
        "    return \"Software Engineer\"\n",
        "  else:\n",
        "    return position"
      ],
      "metadata": {
        "id": "SB_zTGpelf0k"
      },
      "execution_count": 7,
      "outputs": []
    },
    {
      "cell_type": "code",
      "source": [
        "def string_contains_any(text, elements):\n",
        "    \"\"\"\n",
        "    Checks if a string contains any of the elements from a list.\n",
        "\n",
        "    Args:\n",
        "        text: The string to search in.\n",
        "        elements: A list of strings to search for.\n",
        "\n",
        "    Returns:\n",
        "        True if the string contains at least one element from the list, False otherwise.\n",
        "    \"\"\"\n",
        "    return any(element in text for element in elements)"
      ],
      "metadata": {
        "id": "Pp-HGUXrjiJt"
      },
      "execution_count": 8,
      "outputs": []
    },
    {
      "cell_type": "code",
      "source": [
        "def categorize_position(position):\n",
        "  position = position.lower()\n",
        "  if string_contains_any(position, ['educat', 'lecturer', 'faculty', \"postdoctoral\", \"phd\", \"bachelor\", 'bs', 'ms', 'masters', 'professor', 'teach', 'graduate']):\n",
        "    return \"Academia\"\n",
        "  elif string_contains_any(position, [\"hr\", \"people\", \"recruit\", 'talent']):\n",
        "    return \"HR\"\n",
        "  elif string_contains_any(position, [\"intern\", \"internship\", \"interim\"]):\n",
        "    return \"Internship\"\n",
        "  elif string_contains_any(position, [\"data\", \"ml\", \"machine learning\", 'analyst']):\n",
        "    return \"Data\"\n",
        "  elif string_contains_any(position, [\"qa\", \"quality\", \"assurance\", \"test\"]):\n",
        "    return \"QA\"\n",
        "  elif string_contains_any(position, [\"engineer\", \"software\", 'ios', 'android', 'mobile developer']):\n",
        "    return \"Engineering\"\n",
        "  elif \"sales\" in position:\n",
        "    return \"Sales\"\n",
        "  elif string_contains_any(position, ['brand', 'marketing']):\n",
        "    return \"Marketing\"\n",
        "  elif string_contains_any(position, ['ux', 'ui', 'design']):\n",
        "    return \"UX\"\n",
        "  elif string_contains_any(position, ['fincance', 'trade', 'insurance', 'invest', 'credit', 'actuarial']):\n",
        "    return \"Finance\"\n",
        "  elif \"operations\" in position:\n",
        "    return \"Operations\"\n",
        "  elif string_contains_any(position, ['pm', 'product']):\n",
        "    return \"Product\"\n",
        "  elif string_contains_any(position, ['founder', 'ceo', 'owner', 'chief executive officer']):\n",
        "    return \"Founder\"\n",
        "  elif string_contains_any(position, [\"research\", \"scientist\", 'r&d']):\n",
        "    return \"Research\"\n",
        "  elif string_contains_any(position, ['md', 'executive', 'lead', 'business', 'advisor', 'cfo', 'cto', 'cmo', 'partner', 'head', 'manager', 'leader', 'president', 'director', 'vp', 'consultant', 'principal', 'chief']):\n",
        "    return \"Management\"\n",
        "  elif string_contains_any(position, ['doctor', 'chemist', 'dentist', 'surgeon', 'physician']):\n",
        "    return \"Medicine\"\n",
        "  elif string_contains_any(position, ['legal', 'law', 'attorney']):\n",
        "    return \"Legal\"\n",
        "  else:\n",
        "    return \"Other\"\n",
        ""
      ],
      "metadata": {
        "id": "aWM9ua9eiK1E"
      },
      "execution_count": 9,
      "outputs": []
    },
    {
      "cell_type": "code",
      "source": [
        "def categorize_engineering(position):\n",
        "  position = position.lower()\n",
        "  if string_contains_any(position, ['ios', 'mobile', 'android']):\n",
        "    return \"Mobile\"\n",
        "  elif string_contains_any(position, [\"stack\", \"java\", \"python\", \"sofware\"]):\n",
        "    return \"Backend\"\n",
        "  elif string_contains_any(position, [\"architect\", \"aws\", \"azure\", \"hardware\"]):\n",
        "    return \"Solutions Architect\"\n",
        "  elif string_contains_any(position, [\"data\", \"ml\", \"machine learning\", 'analyst']):\n",
        "    return \"Data Engineer\"\n",
        "  elif string_contains_any(position, [\"qa\", \"quality assurance\", \"test\"]):\n",
        "    return \"QA\"\n",
        "  elif string_contains_any(position, ['ux', 'ui', 'design']):\n",
        "    return \"UX\"\n",
        "  else:\n",
        "    return \"Engineering\""
      ],
      "metadata": {
        "id": "e7PqukVYG-A5"
      },
      "execution_count": 10,
      "outputs": []
    },
    {
      "cell_type": "code",
      "source": [
        "def categorize_management(position):\n",
        "  position = position.lower()\n",
        "  if string_contains_any(position, ['founder', 'ceo', 'owner', 'chief executive officer', \"entrepreneur\"]):\n",
        "    return \"Founder\"\n",
        "  elif string_contains_any(position, [\"md\", 'chief', \"executive\", 'partner', 'head', 'lead', 'president', 'principal', 'director']):\n",
        "    return \"Leadership\"\n",
        "  else:\n",
        "    return \"Management\"\n"
      ],
      "metadata": {
        "id": "4oJIDWEnH8PA"
      },
      "execution_count": 11,
      "outputs": []
    }
  ]
}