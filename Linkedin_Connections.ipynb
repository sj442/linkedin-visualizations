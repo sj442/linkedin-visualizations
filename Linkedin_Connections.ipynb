{
  "nbformat": 4,
  "nbformat_minor": 0,
  "metadata": {
    "colab": {
      "provenance": [],
      "gpuType": "T4",
      "authorship_tag": "ABX9TyMm4xZQC6cOKtqjcylvzHHP",
      "include_colab_link": true
    },
    "kernelspec": {
      "name": "python3",
      "display_name": "Python 3"
    },
    "language_info": {
      "name": "python"
    },
    "accelerator": "GPU"
  },
  "cells": [
    {
      "cell_type": "markdown",
      "metadata": {
        "id": "view-in-github",
        "colab_type": "text"
      },
      "source": [
        "<a href=\"https://colab.research.google.com/github/sj442/linkedin-visualizations/blob/main/Linkedin_Connections.ipynb\" target=\"_parent\"><img src=\"https://colab.research.google.com/assets/colab-badge.svg\" alt=\"Open In Colab\"/></a>"
      ]
    },
    {
      "cell_type": "markdown",
      "source": [
        "# Imports"
      ],
      "metadata": {
        "id": "W1nwJLPtiF8D"
      }
    },
    {
      "cell_type": "code",
      "execution_count": 1,
      "metadata": {
        "id": "m7Io9M5sw3Ya"
      },
      "outputs": [],
      "source": [
        "import pandas as pd\n",
        "import numpy as np\n",
        "import csv"
      ]
    },
    {
      "cell_type": "code",
      "source": [
        "!pip install pyvis"
      ],
      "metadata": {
        "colab": {
          "base_uri": "https://localhost:8080/"
        },
        "collapsed": true,
        "id": "8DzLeoVU8IkD",
        "outputId": "77b09a11-e7e6-4f57-bf12-305b1c04217e"
      },
      "execution_count": 3,
      "outputs": [
        {
          "output_type": "stream",
          "name": "stdout",
          "text": [
            "Collecting pyvis\n",
            "  Downloading pyvis-0.3.2-py3-none-any.whl.metadata (1.7 kB)\n",
            "Requirement already satisfied: ipython>=5.3.0 in /usr/local/lib/python3.11/dist-packages (from pyvis) (7.34.0)\n",
            "Requirement already satisfied: jinja2>=2.9.6 in /usr/local/lib/python3.11/dist-packages (from pyvis) (3.1.6)\n",
            "Requirement already satisfied: jsonpickle>=1.4.1 in /usr/local/lib/python3.11/dist-packages (from pyvis) (4.1.1)\n",
            "Requirement already satisfied: networkx>=1.11 in /usr/local/lib/python3.11/dist-packages (from pyvis) (3.5)\n",
            "Requirement already satisfied: setuptools>=18.5 in /usr/local/lib/python3.11/dist-packages (from ipython>=5.3.0->pyvis) (75.2.0)\n",
            "Collecting jedi>=0.16 (from ipython>=5.3.0->pyvis)\n",
            "  Downloading jedi-0.19.2-py2.py3-none-any.whl.metadata (22 kB)\n",
            "Requirement already satisfied: decorator in /usr/local/lib/python3.11/dist-packages (from ipython>=5.3.0->pyvis) (4.4.2)\n",
            "Requirement already satisfied: pickleshare in /usr/local/lib/python3.11/dist-packages (from ipython>=5.3.0->pyvis) (0.7.5)\n",
            "Requirement already satisfied: traitlets>=4.2 in /usr/local/lib/python3.11/dist-packages (from ipython>=5.3.0->pyvis) (5.7.1)\n",
            "Requirement already satisfied: prompt-toolkit!=3.0.0,!=3.0.1,<3.1.0,>=2.0.0 in /usr/local/lib/python3.11/dist-packages (from ipython>=5.3.0->pyvis) (3.0.51)\n",
            "Requirement already satisfied: pygments in /usr/local/lib/python3.11/dist-packages (from ipython>=5.3.0->pyvis) (2.19.1)\n",
            "Requirement already satisfied: backcall in /usr/local/lib/python3.11/dist-packages (from ipython>=5.3.0->pyvis) (0.2.0)\n",
            "Requirement already satisfied: matplotlib-inline in /usr/local/lib/python3.11/dist-packages (from ipython>=5.3.0->pyvis) (0.1.7)\n",
            "Requirement already satisfied: pexpect>4.3 in /usr/local/lib/python3.11/dist-packages (from ipython>=5.3.0->pyvis) (4.9.0)\n",
            "Requirement already satisfied: MarkupSafe>=2.0 in /usr/local/lib/python3.11/dist-packages (from jinja2>=2.9.6->pyvis) (3.0.2)\n",
            "Requirement already satisfied: parso<0.9.0,>=0.8.4 in /usr/local/lib/python3.11/dist-packages (from jedi>=0.16->ipython>=5.3.0->pyvis) (0.8.4)\n",
            "Requirement already satisfied: ptyprocess>=0.5 in /usr/local/lib/python3.11/dist-packages (from pexpect>4.3->ipython>=5.3.0->pyvis) (0.7.0)\n",
            "Requirement already satisfied: wcwidth in /usr/local/lib/python3.11/dist-packages (from prompt-toolkit!=3.0.0,!=3.0.1,<3.1.0,>=2.0.0->ipython>=5.3.0->pyvis) (0.2.13)\n",
            "Downloading pyvis-0.3.2-py3-none-any.whl (756 kB)\n",
            "\u001b[2K   \u001b[90m━━━━━━━━━━━━━━━━━━━━━━━━━━━━━━━━━━━━━━━━\u001b[0m \u001b[32m756.0/756.0 kB\u001b[0m \u001b[31m42.6 MB/s\u001b[0m eta \u001b[36m0:00:00\u001b[0m\n",
            "\u001b[?25hDownloading jedi-0.19.2-py2.py3-none-any.whl (1.6 MB)\n",
            "\u001b[2K   \u001b[90m━━━━━━━━━━━━━━━━━━━━━━━━━━━━━━━━━━━━━━━━\u001b[0m \u001b[32m1.6/1.6 MB\u001b[0m \u001b[31m69.9 MB/s\u001b[0m eta \u001b[36m0:00:00\u001b[0m\n",
            "\u001b[?25hInstalling collected packages: jedi, pyvis\n",
            "Successfully installed jedi-0.19.2 pyvis-0.3.2\n"
          ]
        }
      ]
    },
    {
      "cell_type": "code",
      "source": [
        "from pyvis.network import Network\n",
        "import webbrowser\n",
        "from collections import Counter\n",
        "\n",
        "import pickle\n",
        "from google.colab import files\n",
        "\n",
        "from transformers import pipeline\n",
        "import torch"
      ],
      "metadata": {
        "id": "r25yosPa8rZE"
      },
      "execution_count": 4,
      "outputs": []
    },
    {
      "cell_type": "markdown",
      "source": [
        "## Privacy disclaimer"
      ],
      "metadata": {
        "id": "9Vl4biXDkAyp"
      }
    },
    {
      "cell_type": "markdown",
      "source": [
        "**Note**: I have intentionally removed all print functions that identified individuals in my network with their name, role and company.\n",
        "\n",
        "In the visualizations, I will only display either an individual's role or the comapny they are affiliated with, to avoid giving out information that could be traced back to them."
      ],
      "metadata": {
        "id": "7898ZkMwiKgQ"
      }
    },
    {
      "cell_type": "markdown",
      "source": [
        "# Dataframe Import\n"
      ],
      "metadata": {
        "id": "-ucLhPIakHCZ"
      }
    },
    {
      "cell_type": "code",
      "source": [
        "df = pd.read_csv('/content/sample_data/Connections.csv', skiprows=1)"
      ],
      "metadata": {
        "id": "uMJdueGtyPcu"
      },
      "execution_count": 5,
      "outputs": []
    },
    {
      "cell_type": "code",
      "source": [
        "df.info()"
      ],
      "metadata": {
        "colab": {
          "base_uri": "https://localhost:8080/"
        },
        "id": "qXP2wY02zdn7",
        "outputId": "5646e3d3-386e-45cc-8d38-41e44e90fdb8"
      },
      "execution_count": 7,
      "outputs": [
        {
          "output_type": "stream",
          "name": "stdout",
          "text": [
            "<class 'pandas.core.frame.DataFrame'>\n",
            "RangeIndex: 601 entries, 0 to 600\n",
            "Data columns (total 7 columns):\n",
            " #   Column         Non-Null Count  Dtype \n",
            "---  ------         --------------  ----- \n",
            " 0   First Name     601 non-null    object\n",
            " 1   Last Name      601 non-null    object\n",
            " 2   URL            601 non-null    object\n",
            " 3   Email Address  11 non-null     object\n",
            " 4   Company        598 non-null    object\n",
            " 5   Position       598 non-null    object\n",
            " 6   Connected On   601 non-null    object\n",
            "dtypes: object(7)\n",
            "memory usage: 33.0+ KB\n"
          ]
        }
      ]
    },
    {
      "cell_type": "code",
      "source": [
        "df = df.dropna(subset=['Position'])\n",
        "df.info()"
      ],
      "metadata": {
        "colab": {
          "base_uri": "https://localhost:8080/"
        },
        "id": "U1Qw0N9C3pTd",
        "outputId": "88a8b9c5-d9b6-4bdd-f990-45779123367c"
      },
      "execution_count": 6,
      "outputs": [
        {
          "output_type": "stream",
          "name": "stdout",
          "text": [
            "<class 'pandas.core.frame.DataFrame'>\n",
            "Index: 598 entries, 0 to 600\n",
            "Data columns (total 7 columns):\n",
            " #   Column         Non-Null Count  Dtype \n",
            "---  ------         --------------  ----- \n",
            " 0   First Name     598 non-null    object\n",
            " 1   Last Name      598 non-null    object\n",
            " 2   URL            598 non-null    object\n",
            " 3   Email Address  11 non-null     object\n",
            " 4   Company        598 non-null    object\n",
            " 5   Position       598 non-null    object\n",
            " 6   Connected On   598 non-null    object\n",
            "dtypes: object(7)\n",
            "memory usage: 37.4+ KB\n"
          ]
        }
      ]
    },
    {
      "cell_type": "code",
      "source": [
        "print(df.columns)"
      ],
      "metadata": {
        "colab": {
          "base_uri": "https://localhost:8080/"
        },
        "id": "AF7lxh74z1Nd",
        "outputId": "fb7cf128-357d-496d-8247-746a372c1538"
      },
      "execution_count": 11,
      "outputs": [
        {
          "output_type": "stream",
          "name": "stdout",
          "text": [
            "Index(['First Name', 'Last Name', 'URL', 'Email Address', 'Company',\n",
            "       'Position', 'Connected On'],\n",
            "      dtype='object')\n"
          ]
        }
      ]
    },
    {
      "cell_type": "code",
      "source": [
        "# Dropping emails column since it is not needed in analysis and is missing for most connections\n",
        "df = df.drop('Email Address', axis=1)"
      ],
      "metadata": {
        "id": "ln3BMngg1CGC"
      },
      "execution_count": 7,
      "outputs": []
    },
    {
      "cell_type": "markdown",
      "source": [
        "# Network of roles"
      ],
      "metadata": {
        "id": "XtWnPH0d65SN"
      }
    },
    {
      "cell_type": "code",
      "source": [
        "# Number of unique positions held by individuals\n",
        "df.Position.nunique()"
      ],
      "metadata": {
        "colab": {
          "base_uri": "https://localhost:8080/"
        },
        "id": "iTVIDOzY34xU",
        "outputId": "de544cac-a751-4d3c-f92a-75eea731fe6a"
      },
      "execution_count": 10,
      "outputs": [
        {
          "output_type": "execute_result",
          "data": {
            "text/plain": [
              "457"
            ]
          },
          "metadata": {},
          "execution_count": 10
        }
      ]
    },
    {
      "cell_type": "code",
      "source": [
        "# Apply a function to consolidate the same roles which are worded differently. Eg: Founder|CEO, Founder & CEO\n",
        "df['Position'] = df['Position'].apply(consolidate_positions)"
      ],
      "metadata": {
        "id": "Lny3dln8qjai"
      },
      "execution_count": 12,
      "outputs": []
    },
    {
      "cell_type": "code",
      "source": [
        "# Applying consolidation for just Founder and Engineer roles reduces the number of unique roles\n",
        "# by 14%\n",
        "df['Position'].nunique()"
      ],
      "metadata": {
        "colab": {
          "base_uri": "https://localhost:8080/"
        },
        "id": "M5Q-HdLvqqsh",
        "outputId": "f5d80ca7-c37f-40c4-c74f-56cdd103913e"
      },
      "execution_count": 12,
      "outputs": [
        {
          "output_type": "execute_result",
          "data": {
            "text/plain": [
              "393"
            ]
          },
          "metadata": {},
          "execution_count": 12
        }
      ]
    },
    {
      "cell_type": "markdown",
      "source": [
        "## Model generated grouping"
      ],
      "metadata": {
        "id": "OL7IZzvzu1xo"
      }
    },
    {
      "cell_type": "markdown",
      "source": [
        "We will use a huggingface model and perform zero shot classfiication to classify the roles into a predefined list of broad role categories or industris.\n",
        "\n"
      ],
      "metadata": {
        "id": "iW2mzUVPu8ep"
      }
    },
    {
      "cell_type": "code",
      "source": [
        "# Check if GPU is available and use to speed up the classification\n",
        "device = 0 if torch.cuda.is_available() else -1\n",
        "\n",
        "classifier = pipeline(\"zero-shot-classification\",\n",
        "                      model=\"MoritzLaurer/DeBERTa-v3-base-mnli-fever-anli\",\n",
        "                      device=device,\n",
        "                      truncation=True,\n",
        "                      max_length=64)\n",
        "\n",
        "labels = ['Academia', 'HR', 'Internship', 'Data', 'AI/ML', 'QA', 'Engineering', 'Sales', 'Marketing', 'UX', 'Finance',\n",
        "          'Operations', 'Product', 'Founder', 'Research', 'Management', 'Medicine', 'Legal', 'Architecture',\n",
        "          'Consulting', 'Creative', 'Government', 'Nonprofit', 'Retired']\n",
        "\n",
        "def classify_batch(positions, labels, batch_size=8):\n",
        "    results = []\n",
        "    for i in range(0, len(positions), batch_size):\n",
        "        batch = positions[i:i + batch_size]\n",
        "        batch = list(map(lambda x: x.lower(), batch))\n",
        "        batch_results = classifier(batch, labels, multi_label=True)\n",
        "        if isinstance(batch_results, dict):  # happens when only 1 item is present\n",
        "            batch_results = [batch_results]\n",
        "        results.extend([res['labels'][0] for res in batch_results])\n",
        "    return results\n",
        "\n",
        "def classify_position(position):\n",
        "    position = position.lower()\n",
        "    result = classifier(position, labels)\n",
        "    return result['labels'][0]"
      ],
      "metadata": {
        "id": "Xiuo95Gfgnvt"
      },
      "execution_count": null,
      "outputs": []
    },
    {
      "cell_type": "code",
      "source": [
        "# We will save the position categories locally to avoid running the above computation repeatedly\n",
        "\n",
        "df['Position_Category'] = classify_batch(df['Position'].tolist(), labels)\n",
        "\n",
        "# Save to Colab local\n",
        "with open('classified.pkl', 'wb') as f:\n",
        "    pickle.dump(df['Position_Category'].tolist(), f)\n",
        "\n",
        "# Download to local machine\n",
        "files.download('classified.pkl')"
      ],
      "metadata": {
        "id": "Jw3oubwrt6Gg"
      },
      "execution_count": null,
      "outputs": []
    },
    {
      "cell_type": "code",
      "source": [
        "# Upload the file from local machine\n",
        "uploaded = files.upload()"
      ],
      "metadata": {
        "id": "0xwSEop5FamB"
      },
      "execution_count": null,
      "outputs": []
    },
    {
      "cell_type": "code",
      "source": [
        "# Load the position categories into the dataframe\n",
        "with open('classified.pkl', 'rb') as f:\n",
        "    df['Position_Category'] = pickle.load(f)"
      ],
      "metadata": {
        "collapsed": true,
        "id": "GNf_ACVOMZ_2"
      },
      "execution_count": 15,
      "outputs": []
    },
    {
      "cell_type": "code",
      "source": [
        "df['Position_Category'].value_counts()"
      ],
      "metadata": {
        "colab": {
          "base_uri": "https://localhost:8080/",
          "height": 868
        },
        "id": "7DcmDXU_xABZ",
        "outputId": "bee8f9ef-ac46-4fbb-a48d-0bbd085fc322"
      },
      "execution_count": 17,
      "outputs": [
        {
          "output_type": "execute_result",
          "data": {
            "text/plain": [
              "Position_Category\n",
              "Management      249\n",
              "Engineering      85\n",
              "Founder          54\n",
              "Academia         28\n",
              "Consulting       27\n",
              "Data             22\n",
              "Creative         16\n",
              "Research         15\n",
              "Government       15\n",
              "AI/ML            15\n",
              "Product          13\n",
              "Finance           8\n",
              "Internship        7\n",
              "UX                7\n",
              "QA                7\n",
              "Marketing         6\n",
              "Nonprofit         5\n",
              "HR                4\n",
              "Operations        4\n",
              "Architecture      3\n",
              "Medicine          3\n",
              "Retired           2\n",
              "Sales             2\n",
              "Legal             1\n",
              "Name: count, dtype: int64"
            ],
            "text/html": [
              "<div>\n",
              "<style scoped>\n",
              "    .dataframe tbody tr th:only-of-type {\n",
              "        vertical-align: middle;\n",
              "    }\n",
              "\n",
              "    .dataframe tbody tr th {\n",
              "        vertical-align: top;\n",
              "    }\n",
              "\n",
              "    .dataframe thead th {\n",
              "        text-align: right;\n",
              "    }\n",
              "</style>\n",
              "<table border=\"1\" class=\"dataframe\">\n",
              "  <thead>\n",
              "    <tr style=\"text-align: right;\">\n",
              "      <th></th>\n",
              "      <th>count</th>\n",
              "    </tr>\n",
              "    <tr>\n",
              "      <th>Position_Category</th>\n",
              "      <th></th>\n",
              "    </tr>\n",
              "  </thead>\n",
              "  <tbody>\n",
              "    <tr>\n",
              "      <th>Management</th>\n",
              "      <td>249</td>\n",
              "    </tr>\n",
              "    <tr>\n",
              "      <th>Engineering</th>\n",
              "      <td>85</td>\n",
              "    </tr>\n",
              "    <tr>\n",
              "      <th>Founder</th>\n",
              "      <td>54</td>\n",
              "    </tr>\n",
              "    <tr>\n",
              "      <th>Academia</th>\n",
              "      <td>28</td>\n",
              "    </tr>\n",
              "    <tr>\n",
              "      <th>Consulting</th>\n",
              "      <td>27</td>\n",
              "    </tr>\n",
              "    <tr>\n",
              "      <th>Data</th>\n",
              "      <td>22</td>\n",
              "    </tr>\n",
              "    <tr>\n",
              "      <th>Creative</th>\n",
              "      <td>16</td>\n",
              "    </tr>\n",
              "    <tr>\n",
              "      <th>Research</th>\n",
              "      <td>15</td>\n",
              "    </tr>\n",
              "    <tr>\n",
              "      <th>Government</th>\n",
              "      <td>15</td>\n",
              "    </tr>\n",
              "    <tr>\n",
              "      <th>AI/ML</th>\n",
              "      <td>15</td>\n",
              "    </tr>\n",
              "    <tr>\n",
              "      <th>Product</th>\n",
              "      <td>13</td>\n",
              "    </tr>\n",
              "    <tr>\n",
              "      <th>Finance</th>\n",
              "      <td>8</td>\n",
              "    </tr>\n",
              "    <tr>\n",
              "      <th>Internship</th>\n",
              "      <td>7</td>\n",
              "    </tr>\n",
              "    <tr>\n",
              "      <th>UX</th>\n",
              "      <td>7</td>\n",
              "    </tr>\n",
              "    <tr>\n",
              "      <th>QA</th>\n",
              "      <td>7</td>\n",
              "    </tr>\n",
              "    <tr>\n",
              "      <th>Marketing</th>\n",
              "      <td>6</td>\n",
              "    </tr>\n",
              "    <tr>\n",
              "      <th>Nonprofit</th>\n",
              "      <td>5</td>\n",
              "    </tr>\n",
              "    <tr>\n",
              "      <th>HR</th>\n",
              "      <td>4</td>\n",
              "    </tr>\n",
              "    <tr>\n",
              "      <th>Operations</th>\n",
              "      <td>4</td>\n",
              "    </tr>\n",
              "    <tr>\n",
              "      <th>Architecture</th>\n",
              "      <td>3</td>\n",
              "    </tr>\n",
              "    <tr>\n",
              "      <th>Medicine</th>\n",
              "      <td>3</td>\n",
              "    </tr>\n",
              "    <tr>\n",
              "      <th>Retired</th>\n",
              "      <td>2</td>\n",
              "    </tr>\n",
              "    <tr>\n",
              "      <th>Sales</th>\n",
              "      <td>2</td>\n",
              "    </tr>\n",
              "    <tr>\n",
              "      <th>Legal</th>\n",
              "      <td>1</td>\n",
              "    </tr>\n",
              "  </tbody>\n",
              "</table>\n",
              "</div><br><label><b>dtype:</b> int64</label>"
            ]
          },
          "metadata": {},
          "execution_count": 17
        }
      ]
    },
    {
      "cell_type": "markdown",
      "source": [
        "Too many roles have been categorized as Management and Engineering. We will attempt to refine the categorization before generating visualizations on it"
      ],
      "metadata": {
        "id": "yvBjje_sw3gP"
      }
    },
    {
      "cell_type": "code",
      "source": [
        "df[\"Position\"] = df[\"Position\"].astype(str)\n",
        "df[\"Position_Category\"] = df.apply(lambda row: categorize_engineering(row.Position) if row.Position == 'Engineering' else row.Position_Category, axis = 1)\n",
        "df[\"Position_Category\"] = df.apply(lambda row: categorize_management(row.Position) if row.Position_Category == 'Management' else row.Position_Category, axis = 1)"
      ],
      "metadata": {
        "id": "CQ4dejvwjIRW"
      },
      "execution_count": 18,
      "outputs": []
    },
    {
      "cell_type": "code",
      "source": [
        "df['Position_Category'].value_counts()"
      ],
      "metadata": {
        "colab": {
          "base_uri": "https://localhost:8080/",
          "height": 899
        },
        "id": "RQo7Axj_lDAF",
        "outputId": "f10a3f53-cad9-443f-aa78-7b94dcc98083"
      },
      "execution_count": 19,
      "outputs": [
        {
          "output_type": "execute_result",
          "data": {
            "text/plain": [
              "Position_Category\n",
              "Leadership      122\n",
              "Management       96\n",
              "Founder          85\n",
              "Engineering      85\n",
              "Academia         28\n",
              "Consulting       27\n",
              "Data             22\n",
              "Creative         16\n",
              "Research         15\n",
              "Government       15\n",
              "AI/ML            15\n",
              "Product          13\n",
              "Finance           8\n",
              "Internship        7\n",
              "UX                7\n",
              "QA                7\n",
              "Marketing         6\n",
              "Nonprofit         5\n",
              "HR                4\n",
              "Operations        4\n",
              "Architecture      3\n",
              "Medicine          3\n",
              "Retired           2\n",
              "Sales             2\n",
              "Legal             1\n",
              "Name: count, dtype: int64"
            ],
            "text/html": [
              "<div>\n",
              "<style scoped>\n",
              "    .dataframe tbody tr th:only-of-type {\n",
              "        vertical-align: middle;\n",
              "    }\n",
              "\n",
              "    .dataframe tbody tr th {\n",
              "        vertical-align: top;\n",
              "    }\n",
              "\n",
              "    .dataframe thead th {\n",
              "        text-align: right;\n",
              "    }\n",
              "</style>\n",
              "<table border=\"1\" class=\"dataframe\">\n",
              "  <thead>\n",
              "    <tr style=\"text-align: right;\">\n",
              "      <th></th>\n",
              "      <th>count</th>\n",
              "    </tr>\n",
              "    <tr>\n",
              "      <th>Position_Category</th>\n",
              "      <th></th>\n",
              "    </tr>\n",
              "  </thead>\n",
              "  <tbody>\n",
              "    <tr>\n",
              "      <th>Leadership</th>\n",
              "      <td>122</td>\n",
              "    </tr>\n",
              "    <tr>\n",
              "      <th>Management</th>\n",
              "      <td>96</td>\n",
              "    </tr>\n",
              "    <tr>\n",
              "      <th>Founder</th>\n",
              "      <td>85</td>\n",
              "    </tr>\n",
              "    <tr>\n",
              "      <th>Engineering</th>\n",
              "      <td>85</td>\n",
              "    </tr>\n",
              "    <tr>\n",
              "      <th>Academia</th>\n",
              "      <td>28</td>\n",
              "    </tr>\n",
              "    <tr>\n",
              "      <th>Consulting</th>\n",
              "      <td>27</td>\n",
              "    </tr>\n",
              "    <tr>\n",
              "      <th>Data</th>\n",
              "      <td>22</td>\n",
              "    </tr>\n",
              "    <tr>\n",
              "      <th>Creative</th>\n",
              "      <td>16</td>\n",
              "    </tr>\n",
              "    <tr>\n",
              "      <th>Research</th>\n",
              "      <td>15</td>\n",
              "    </tr>\n",
              "    <tr>\n",
              "      <th>Government</th>\n",
              "      <td>15</td>\n",
              "    </tr>\n",
              "    <tr>\n",
              "      <th>AI/ML</th>\n",
              "      <td>15</td>\n",
              "    </tr>\n",
              "    <tr>\n",
              "      <th>Product</th>\n",
              "      <td>13</td>\n",
              "    </tr>\n",
              "    <tr>\n",
              "      <th>Finance</th>\n",
              "      <td>8</td>\n",
              "    </tr>\n",
              "    <tr>\n",
              "      <th>Internship</th>\n",
              "      <td>7</td>\n",
              "    </tr>\n",
              "    <tr>\n",
              "      <th>UX</th>\n",
              "      <td>7</td>\n",
              "    </tr>\n",
              "    <tr>\n",
              "      <th>QA</th>\n",
              "      <td>7</td>\n",
              "    </tr>\n",
              "    <tr>\n",
              "      <th>Marketing</th>\n",
              "      <td>6</td>\n",
              "    </tr>\n",
              "    <tr>\n",
              "      <th>Nonprofit</th>\n",
              "      <td>5</td>\n",
              "    </tr>\n",
              "    <tr>\n",
              "      <th>HR</th>\n",
              "      <td>4</td>\n",
              "    </tr>\n",
              "    <tr>\n",
              "      <th>Operations</th>\n",
              "      <td>4</td>\n",
              "    </tr>\n",
              "    <tr>\n",
              "      <th>Architecture</th>\n",
              "      <td>3</td>\n",
              "    </tr>\n",
              "    <tr>\n",
              "      <th>Medicine</th>\n",
              "      <td>3</td>\n",
              "    </tr>\n",
              "    <tr>\n",
              "      <th>Retired</th>\n",
              "      <td>2</td>\n",
              "    </tr>\n",
              "    <tr>\n",
              "      <th>Sales</th>\n",
              "      <td>2</td>\n",
              "    </tr>\n",
              "    <tr>\n",
              "      <th>Legal</th>\n",
              "      <td>1</td>\n",
              "    </tr>\n",
              "  </tbody>\n",
              "</table>\n",
              "</div><br><label><b>dtype:</b> int64</label>"
            ]
          },
          "metadata": {},
          "execution_count": 19
        }
      ]
    },
    {
      "cell_type": "markdown",
      "source": [
        "## Create a graph using NetworkX"
      ],
      "metadata": {
        "id": "4F3yiKKqwShj"
      }
    },
    {
      "cell_type": "code",
      "source": [
        "frequent_roles = Counter(df['Position']).most_common(15)\n",
        "print(frequent_roles)\n",
        "\n",
        "frequent_roles = Counter(df['Position']).most_common(15)\n",
        "res = list(map(lambda x: x[0], frequent_roles))\n",
        "print(res)"
      ],
      "metadata": {
        "colab": {
          "base_uri": "https://localhost:8080/"
        },
        "id": "1FBbOfpHOTiC",
        "outputId": "4035c371-37d0-4d6f-d360-485166bc7779"
      },
      "execution_count": 17,
      "outputs": [
        {
          "output_type": "stream",
          "name": "stdout",
          "text": [
            "[('Founder', 48), ('Software Engineer', 39), ('Founder & Ceo', 22), ('Director', 12), ('Senior Software Engineer', 10), ('Ceo', 8), ('Partner', 8), ('Vice President', 6), ('Product Manager', 5), ('Head Of Product', 5), ('Data Scientist', 4), ('Senior Product Manager', 4), ('Manager', 4), ('Director Of Product Management', 4), ('Managing Director', 4)]\n",
            "['Founder', 'Software Engineer', 'Founder & Ceo', 'Director', 'Senior Software Engineer', 'Ceo', 'Partner', 'Vice President', 'Product Manager', 'Head Of Product', 'Data Scientist', 'Senior Product Manager', 'Manager', 'Director Of Product Management', 'Managing Director']\n"
          ]
        }
      ]
    },
    {
      "cell_type": "code",
      "source": [
        "def shorten_label(label, max_len=20):\n",
        "    return label if len(label) <= max_len else label[:max_len] + \"...\"\n",
        "\n",
        "# Build graph\n",
        "net = Network(height='750px', width='100%', notebook=False)\n",
        "\n",
        "net.set_options(\"\"\"\n",
        "var options = {\n",
        "  \"physics\": {\n",
        "    \"solver\": \"barnesHut\",\n",
        "    \"repulsion\": {\n",
        "      \"nodeDistance\": 120,\n",
        "      \"springLength\": 100,\n",
        "      \"springConstant\": 0.04\n",
        "    },\n",
        "    \"stabilization\": {\n",
        "      \"iterations\": 200\n",
        "    }\n",
        "  }\n",
        "}\n",
        "\"\"\")\n",
        "\n",
        "# Count how many people have each role\n",
        "role_counts = Counter(df['Position_Category'])\n",
        "\n",
        "# Add central category nodes\n",
        "for role, count in role_counts.items():\n",
        "\n",
        "    net.add_node(\n",
        "        role,\n",
        "        label=role,\n",
        "        size=15,  # base size + scaled size\n",
        "        color=category_to_color(role),\n",
        "        font={\"color\": \"#000000\", \"size\": 16}\n",
        "    )\n",
        "\n",
        "common_roles_df = df[df[\"Position\"].isin(res)]\n",
        "\n",
        "# Add nodes for frequent roles and edges from central nodes to frequent role nodes\n",
        "for _, row in common_roles_df.iterrows():\n",
        "  position = row['Position']\n",
        "  category = row['Position_Category']\n",
        "  net.add_node(position,\n",
        "               label=shorten_label(position),\n",
        "               title=position,\n",
        "               shape='ellipse',\n",
        "               size=12,\n",
        "               color='orange',  # node background color\n",
        "               font={\n",
        "                   \"face\": \"verdana\",\n",
        "                   \"color\": \"#1f77b4\",\n",
        "                   \"size\": 10,\n",
        "                   \"strokeWidth\": 0\n",
        "                   },\n",
        "               physics=False)\n",
        "  net.add_edge(category, position, length=100)\n",
        "  net.cdn_resources = 'remote'\n",
        "\n",
        "\n",
        "filtered_df = df[~df[\"Position\"].isin(res)]\n",
        "\n",
        "# Add connection nodes and edges\n",
        "for _, row in filtered_df.iterrows():\n",
        "    position = row['Position']\n",
        "    category = row['Position_Category']\n",
        "    net.add_node(position,\n",
        "                 label=shorten_label(position),\n",
        "                 title = position,\n",
        "                 shape='dot',\n",
        "                 color=category_to_color(row['Position_Category']),\n",
        "                 size=12)\n",
        "    net.add_edge(category, position)\n",
        "    net.cdn_resources = 'remote'\n",
        "\n",
        "net.save_graph(\"linkedin_role_network.html\")\n",
        "files.download(\"linkedin_role_network.html\")"
      ],
      "metadata": {
        "colab": {
          "base_uri": "https://localhost:8080/",
          "height": 17
        },
        "collapsed": true,
        "id": "eDAubgp4c_P7",
        "outputId": "01048b36-fa32-47b1-8353-bb030b05938b"
      },
      "execution_count": 23,
      "outputs": [
        {
          "output_type": "display_data",
          "data": {
            "text/plain": [
              "<IPython.core.display.Javascript object>"
            ],
            "application/javascript": [
              "\n",
              "    async function download(id, filename, size) {\n",
              "      if (!google.colab.kernel.accessAllowed) {\n",
              "        return;\n",
              "      }\n",
              "      const div = document.createElement('div');\n",
              "      const label = document.createElement('label');\n",
              "      label.textContent = `Downloading \"${filename}\": `;\n",
              "      div.appendChild(label);\n",
              "      const progress = document.createElement('progress');\n",
              "      progress.max = size;\n",
              "      div.appendChild(progress);\n",
              "      document.body.appendChild(div);\n",
              "\n",
              "      const buffers = [];\n",
              "      let downloaded = 0;\n",
              "\n",
              "      const channel = await google.colab.kernel.comms.open(id);\n",
              "      // Send a message to notify the kernel that we're ready.\n",
              "      channel.send({})\n",
              "\n",
              "      for await (const message of channel.messages) {\n",
              "        // Send a message to notify the kernel that we're ready.\n",
              "        channel.send({})\n",
              "        if (message.buffers) {\n",
              "          for (const buffer of message.buffers) {\n",
              "            buffers.push(buffer);\n",
              "            downloaded += buffer.byteLength;\n",
              "            progress.value = downloaded;\n",
              "          }\n",
              "        }\n",
              "      }\n",
              "      const blob = new Blob(buffers, {type: 'application/binary'});\n",
              "      const a = document.createElement('a');\n",
              "      a.href = window.URL.createObjectURL(blob);\n",
              "      a.download = filename;\n",
              "      div.appendChild(a);\n",
              "      a.click();\n",
              "      div.remove();\n",
              "    }\n",
              "  "
            ]
          },
          "metadata": {}
        },
        {
          "output_type": "display_data",
          "data": {
            "text/plain": [
              "<IPython.core.display.Javascript object>"
            ],
            "application/javascript": [
              "download(\"download_af298f25-6dd2-4cc6-a80d-6a1bca7c9481\", \"linkedin_role_network.html\", 106765)"
            ]
          },
          "metadata": {}
        }
      ]
    },
    {
      "cell_type": "markdown",
      "source": [
        "# Network of companies"
      ],
      "metadata": {
        "id": "-5IaIcAB7VPV"
      }
    },
    {
      "cell_type": "code",
      "source": [
        "companies = df.Company.value_counts().reset_index().Company.to_list()\n",
        "print(len(companies))"
      ],
      "metadata": {
        "colab": {
          "base_uri": "https://localhost:8080/"
        },
        "id": "HeAX8vt9PHoU",
        "outputId": "6c754c68-b023-4a0f-d94b-1c0231c8f2f9"
      },
      "execution_count": 8,
      "outputs": [
        {
          "output_type": "stream",
          "name": "stdout",
          "text": [
            "486\n"
          ]
        }
      ]
    },
    {
      "cell_type": "code",
      "source": [
        "# Number of unique companies associated with my connections\n",
        "df.Company.nunique()"
      ],
      "metadata": {
        "colab": {
          "base_uri": "https://localhost:8080/"
        },
        "id": "_v5RKQjz4KKj",
        "outputId": "5d511d7e-b951-4a74-b732-815023b74eeb"
      },
      "execution_count": 5,
      "outputs": [
        {
          "output_type": "execute_result",
          "data": {
            "text/plain": [
              "486"
            ]
          },
          "metadata": {},
          "execution_count": 5
        }
      ]
    },
    {
      "cell_type": "code",
      "source": [
        "df.Company.value_counts().head(10)"
      ],
      "metadata": {
        "colab": {
          "base_uri": "https://localhost:8080/",
          "height": 429
        },
        "id": "HDyKi7upQQjh",
        "outputId": "b0e557cd-a685-4889-9171-fca62be858c4"
      },
      "execution_count": 5,
      "outputs": [
        {
          "output_type": "execute_result",
          "data": {
            "text/plain": [
              "Company\n",
              "Audible                          17\n",
              "Amazon                           17\n",
              "Meta                             12\n",
              "Google                            6\n",
              "Apple                             5\n",
              "Audible, Inc.                     4\n",
              "Boston Consulting Group (BCG)     4\n",
              "Microsoft                         4\n",
              "Amazon Web Services (AWS)         4\n",
              "McKinsey & Company                4\n",
              "Name: count, dtype: int64"
            ],
            "text/html": [
              "<div>\n",
              "<style scoped>\n",
              "    .dataframe tbody tr th:only-of-type {\n",
              "        vertical-align: middle;\n",
              "    }\n",
              "\n",
              "    .dataframe tbody tr th {\n",
              "        vertical-align: top;\n",
              "    }\n",
              "\n",
              "    .dataframe thead th {\n",
              "        text-align: right;\n",
              "    }\n",
              "</style>\n",
              "<table border=\"1\" class=\"dataframe\">\n",
              "  <thead>\n",
              "    <tr style=\"text-align: right;\">\n",
              "      <th></th>\n",
              "      <th>count</th>\n",
              "    </tr>\n",
              "    <tr>\n",
              "      <th>Company</th>\n",
              "      <th></th>\n",
              "    </tr>\n",
              "  </thead>\n",
              "  <tbody>\n",
              "    <tr>\n",
              "      <th>Audible</th>\n",
              "      <td>17</td>\n",
              "    </tr>\n",
              "    <tr>\n",
              "      <th>Amazon</th>\n",
              "      <td>17</td>\n",
              "    </tr>\n",
              "    <tr>\n",
              "      <th>Meta</th>\n",
              "      <td>12</td>\n",
              "    </tr>\n",
              "    <tr>\n",
              "      <th>Google</th>\n",
              "      <td>6</td>\n",
              "    </tr>\n",
              "    <tr>\n",
              "      <th>Apple</th>\n",
              "      <td>5</td>\n",
              "    </tr>\n",
              "    <tr>\n",
              "      <th>Audible, Inc.</th>\n",
              "      <td>4</td>\n",
              "    </tr>\n",
              "    <tr>\n",
              "      <th>Boston Consulting Group (BCG)</th>\n",
              "      <td>4</td>\n",
              "    </tr>\n",
              "    <tr>\n",
              "      <th>Microsoft</th>\n",
              "      <td>4</td>\n",
              "    </tr>\n",
              "    <tr>\n",
              "      <th>Amazon Web Services (AWS)</th>\n",
              "      <td>4</td>\n",
              "    </tr>\n",
              "    <tr>\n",
              "      <th>McKinsey &amp; Company</th>\n",
              "      <td>4</td>\n",
              "    </tr>\n",
              "  </tbody>\n",
              "</table>\n",
              "</div><br><label><b>dtype:</b> int64</label>"
            ]
          },
          "metadata": {},
          "execution_count": 5
        }
      ]
    },
    {
      "cell_type": "code",
      "source": [
        "company_industry_df = df['Company'].value_counts().reset_index()\n",
        "company_industry_df.columns = ['Company', 'Count']\n",
        "company_industry_df.sort_values(by='Count', ascending=False)\n",
        "company_industry_df = company_industry_df.head(100)\n",
        "\n",
        "companies = company_industry_df['Company'].to_list()\n",
        "print(len(companies))"
      ],
      "metadata": {
        "colab": {
          "base_uri": "https://localhost:8080/"
        },
        "id": "QrwXX5Cl4hCI",
        "outputId": "6c56c32c-52b0-48d2-d5ad-4533d75ba13f"
      },
      "execution_count": 9,
      "outputs": [
        {
          "output_type": "stream",
          "name": "stdout",
          "text": [
            "100\n"
          ]
        }
      ]
    },
    {
      "cell_type": "code",
      "source": [
        "# Used ChatGPT to generate a company - industry mapping\n",
        "\n",
        "company_industry_mapping = {\n",
        "  \"Audible\": \"Audiobooks & Digital Media\",\n",
        "  \"Amazon\": \"E‑commerce & Cloud Computing\",\n",
        "  \"Meta\": \"Social Media & Technology\",\n",
        "  \"Google\": \"Internet Services & Technology\",\n",
        "  \"Apple\": \"Consumer Electronics & Software\",\n",
        "  \"Audible, Inc.\": \"Audiobooks & Digital Media\",\n",
        "  \"Boston Consulting Group (BCG)\": \"Management Consulting\",\n",
        "  \"Microsoft\": \"Software & Cloud Computing\",\n",
        "  \"Amazon Web Services (AWS)\": \"Cloud Computing\",\n",
        "  \"McKinsey & Company\": \"Management Consulting\",\n",
        "  \"Cornell University\": \"Higher Education\",\n",
        "  \"ZS\": \"Management Consulting (Healthcare Analytics)\",\n",
        "  \"Merck\": \"Pharmaceuticals & Healthcare\",\n",
        "  \"LinkedIn\": \"Professional Networking & Technology\",\n",
        "  \"PayPal\": \"Fintech & Online Payments\",\n",
        "  \"Genpact\": \"Business Process Outsourcing\",\n",
        "  \"Snap Inc.\": \"Social Media & Technology\",\n",
        "  \"DoorDash\": \"Food Delivery & Logistics\",\n",
        "  \"Tower Research Capital\": \"Financial Services (High-frequency Trading)\",\n",
        "  \"Zepto\": \"E‑commerce & Quick-Commerce\",\n",
        "  \"Kearney\": \"Management Consulting\",\n",
        "  \"Study Hall Educational Foundation (SHEF)\": \"Education & Nonprofit\",\n",
        "  \"Deutsche Bank\": \"Banking & Financial Services\",\n",
        "  \"Philip Morris International\": \"Tobacco & Consumer Goods\",\n",
        "  \"ExxonMobil\": \"Oil & Gas\",\n",
        "  \"Stealth AI Startup\": \"Artificial Intelligence (Startup)\",\n",
        "  \"Syensqo\": \"Healthcare Analytics & Digital Lab\",\n",
        "  \"The Akanksha Foundation\": \"Nonprofit / Education\",\n",
        "  \"Bain & Company\": \"Management Consulting\",\n",
        "  \"IDFC FIRST Bank\": \"Banking & Financial Services\",\n",
        "  \"Accenture\": \"Consulting & Technology Services\",\n",
        "  \"Shell\": \"Oil & Gas / Energy\",\n",
        "  \"IBM\": \"Technology & Consulting\",\n",
        "  \"Bloomberg\": \"Financial Data & Media\",\n",
        "  \"Novartis\": \"Pharmaceuticals & Healthcare\",\n",
        "  \"Autodesk\": \"Design Software\",\n",
        "  \"JPMorgan Chase & Co.\": \"Banking & Financial Services\",\n",
        "  \"Verizon\": \"Telecommunications\",\n",
        "  \"American Express\": \"Financial Services (Payments)\",\n",
        "  \"PowerToFly\": \"Online Job Marketplace & Diversity\",\n",
        "  \"FitBudd\": \"Health & Fitness Technology\",\n",
        "  \"Indian Institute of Technology, Kanpur\": \"Higher Education\",\n",
        "  \"Kredivo Group\": \"Fintech & Credit Platform\",\n",
        "  \"Freelance\": \"Independent Contractor\",\n",
        "  \"UBS\": \"Banking & Wealth Management\",\n",
        "  \"Commonwealth Bank\": \"Banking & Financial Services\",\n",
        "  \"OnMyCanvas\": \"Custom Gifting & E‑commerce\",\n",
        "  \"SUEZ\": \"Environmental Services & Water Management\",\n",
        "  \"Government of India\": \"Public Sector\",\n",
        "  \"FusionEngage\": \"CRM & Customer Engagement Software\",\n",
        "  \"AUR - Architecture Urbanism Research\": \"Architecture & Urban Design\",\n",
        "  \"Yaak\": \"AI & Communication Technology\",\n",
        "  \"Inxeption\": \"E‑commerce Software & Marketplace\",\n",
        "  \"Brasserie BFM SA\": \"Food & Brewery\",\n",
        "  \"Meesho\": \"E‑commerce & Social Commerce\",\n",
        "  \"NVIDIA\": \"Semiconductors & AI Hardware\",\n",
        "  \"LSEG (London Stock Exchange Group)\": \"Financial Data & Exchange Services\",\n",
        "  \"Consultancy Services\": \"Management Consulting\",\n",
        "  \"Aravali Asset Management\": \"Asset Management\",\n",
        "  \"Lincoln Electric India\": \"Industrial Manufacturing & Welding\",\n",
        "  \"FanDuel\": \"Online Gaming & Sports Betting\",\n",
        "  \"HDFC Life\": \"Insurance\",\n",
        "  \"State Street Global Advisors\": \"Asset Management\",\n",
        "  \"Dexter Capital Advisors\": \"Financial Advisory\",\n",
        "  \"Kenvue\": \"Consumer Health Products\",\n",
        "  \"Northern Trust Corporation\": \"Wealth Management & Financial Services\",\n",
        "  \"Bumble\": \"Social Networking & Dating\",\n",
        "  \"LazyGardener\": \"Gardening Services\",\n",
        "  \"Starbucks\": \"Food & Beverage (Coffeehouse)\",\n",
        "  \"Medikabazaar\": \"Healthcare Supply Chain & B2B\",\n",
        "  \"Innolution, LLC\": \"Consulting Services\",\n",
        "  \"AKS University, Satna (M.P.)\": \"Higher Education\",\n",
        "  \"Smaart Classes\": \"Education & Tutoring\",\n",
        "  \"DEWI Foundation\": \"Nonprofit\",\n",
        "  \"Executive Placement Network\": \"Recruitment & Professional Services\",\n",
        "  \"Optum\": \"Health Services & Technology\",\n",
        "  \"AINE AI\": \"Artificial Intelligence\",\n",
        "  \"SecurityScorecard\": \"Cybersecurity & Risk Management\",\n",
        "  \"UnShaadi\": \"Social Networking / Matrimony Tech\",\n",
        "  \"Cisco\": \"Networking & Telecommunications\",\n",
        "  \"Stamford AI Consulting\": \"AI Consulting & Services\",\n",
        "  \"Marvell Technology\": \"Semiconductors\",\n",
        "  \"shikhar stone crushers/\": \"Construction Materials\",\n",
        "  \"RedSeer\": \"Management Consulting & Analytics\",\n",
        "  \"Chubb\": \"Insurance\",\n",
        "  \"PPG\": \"Industrial Coatings & Materials\",\n",
        "  \"Rayonsoft Technologies Inc\": \"IT Services\",\n",
        "  \"TopSkill Managment Consulting LLP\": \"Management Consulting\",\n",
        "  \"Capabilities Limited\": \"Consulting Services\",\n",
        "  \"HiThrive\": \"Sleep / Health Technology\",\n",
        "  \"Infoparks Kerala\": \"Cyber Park & IT Services\",\n",
        "  \"Island Boys Recruiting\": \"Recruitment Services\",\n",
        "  \"Alleyoop\": \"Marketing Technology\",\n",
        "  \"VMware\": \"Virtualization & Cloud Computing\",\n",
        "  \"Spectrum Equity\": \"Private Equity\",\n",
        "  \"Rippling\": \"HR & IT Management Software\",\n",
        "  \"Dexcom\": \"Medical Devices & Diabetes Care\",\n",
        "  \"YoloHealth\": \"Health Insurance & Fintech\",\n",
        "  \"Graviton Research Capital LLP\": \"Financial Services & Research\",\n",
        "  \"TechSur Solutions\": \"Technology Consulting\"\n",
        "}"
      ],
      "metadata": {
        "id": "Ld2z_1LUQ95w"
      },
      "execution_count": 6,
      "outputs": []
    },
    {
      "cell_type": "code",
      "source": [
        "# Extract values\n",
        "values = company_industry_mapping.values()\n",
        "\n",
        "# Convert to a set to get unique values\n",
        "unique_values_set = set(values)\n",
        "\n",
        "# Get the count of unique values\n",
        "unique_count = len(unique_values_set)\n",
        "print(unique_count)"
      ],
      "metadata": {
        "colab": {
          "base_uri": "https://localhost:8080/"
        },
        "id": "OBj0kW7_kzPP",
        "outputId": "2c83f0ed-89c4-49fe-e1bb-6ea14704c096"
      },
      "execution_count": 11,
      "outputs": [
        {
          "output_type": "stream",
          "name": "stdout",
          "text": [
            "84\n"
          ]
        }
      ]
    },
    {
      "cell_type": "code",
      "source": [
        "# The companies were being categorized into 84 industries. So updated my prompt\n",
        "# to specify the number of industries to categorize into\n",
        "\n",
        "company_industry_mapping_v1 = {\n",
        "  \"Audible\": \"Technology\",\n",
        "  \"Amazon\": \"E-commerce\",\n",
        "  \"Meta\": \"Technology\",\n",
        "  \"Google\": \"Technology\",\n",
        "  \"Apple\": \"Consumer Goods\",\n",
        "  \"Audible, Inc.\": \"Technology\",\n",
        "  \"Boston Consulting Group (BCG)\": \"Management Consulting\",\n",
        "  \"Microsoft\": \"Technology\",\n",
        "  \"Amazon Web Services (AWS)\": \"Technology\",\n",
        "  \"McKinsey & Company\": \"Management Consulting\",\n",
        "  \"Cornell University\": \"Education & Research\",\n",
        "  \"ZS\": \"Management Consulting\",\n",
        "  \"Merck\": \"Pharmaceuticals & Healthcare\",\n",
        "  \"LinkedIn\": \"Technology\",\n",
        "  \"PayPal\": \"Technology\",\n",
        "  \"Genpact\": \"Technology\",\n",
        "  \"Snap Inc.\": \"Media & Entertainment\",\n",
        "  \"DoorDash\": \"Technology\",\n",
        "  \"Tower Research Capital\": \"Financial Services\",\n",
        "  \"Zepto\": \"E-commerce\",\n",
        "  \"Kearney\": \"Management Consulting\",\n",
        "  \"Study Hall Educational Foundation (SHEF)\": \"Education & Research\",\n",
        "  \"Deutsche Bank\": \"Financial Services\",\n",
        "  \"Philip Morris International\": \"Consumer Goods\",\n",
        "  \"ExxonMobil\": \"Energy & Industrial\",\n",
        "  \"Stealth AI Startup\": \"Other / Freelance / Startups\",\n",
        "  \"Syensqo\": \"Pharmaceuticals & Healthcare\",\n",
        "  \"The Akanksha Foundation\": \"Nonprofit & Foundations\",\n",
        "  \"Bain & Company\": \"Management Consulting\",\n",
        "  \"IDFC FIRST Bank\": \"Financial Services\",\n",
        "  \"Accenture\": \"Management Consulting\",\n",
        "  \"Shell\": \"Energy & Industrial\",\n",
        "  \"IBM\": \"Technology\",\n",
        "  \"Bloomberg\": \"Media & Entertainment\",\n",
        "  \"Novartis\": \"Pharmaceuticals & Healthcare\",\n",
        "  \"Autodesk\": \"Technology\",\n",
        "  \"JPMorgan Chase & Co.\": \"Financial Services\",\n",
        "  \"Verizon\": \"Telecommunications\",\n",
        "  \"American Express\": \"Financial Services\",\n",
        "  \"PowerToFly\": \"Technology\",\n",
        "  \"FitBudd\": \"Technology\",\n",
        "  \"Indian Institute of Technology, Kanpur\": \"Education & Research\",\n",
        "  \"Kredivo Group\": \"Financial Services\",\n",
        "  \"Freelance\": \"Other / Freelance / Startups\",\n",
        "  \"UBS\": \"Financial Services\",\n",
        "  \"Commonwealth Bank\": \"Financial Services\",\n",
        "  \"OnMyCanvas\": \"E-commerce\",\n",
        "  \"SUEZ\": \"Energy & Industrial\",\n",
        "  \"Government of India\": \"Government & Public Sector\",\n",
        "  \"FusionEngage\": \"Technology\",\n",
        "  \"AUR - Architecture Urbanism Research\": \"Architecture & Urban Design\",\n",
        "  \"Yaak\": \"Technology\",\n",
        "  \"Inxeption\": \"E-commerce\",\n",
        "  \"Brasserie BFM SA\": \"Other / Freelance / Startups\",\n",
        "  \"Meesho\": \"E-commerce\",\n",
        "  \"NVIDIA\": \"Technology\",\n",
        "  \"LSEG (London Stock Exchange Group)\": \"Financial Services\",\n",
        "  \"Consultancy Services\": \"Management Consulting\",\n",
        "  \"Aravali Asset Management\": \"Financial Services\",\n",
        "  \"Lincoln Electric India\": \"Energy & Industrial\",\n",
        "  \"FanDuel\": \"Media & Entertainment\",\n",
        "  \"HDFC Life\": \"Insurance\",\n",
        "  \"State Street Global Advisors\": \"Financial Services\",\n",
        "  \"Dexter Capital Advisors\": \"Financial Services\",\n",
        "  \"Kenvue\": \"Pharmaceuticals & Healthcare\",\n",
        "  \"Northern Trust Corporation\": \"Financial Services\",\n",
        "  \"Bumble\": \"Technology\",\n",
        "  \"LazyGardener\": \"Consumer Goods\",\n",
        "  \"Starbucks\": \"Consumer Goods\",\n",
        "  \"Medikabazaar\": \"Pharmaceuticals & Healthcare\",\n",
        "  \"Innolution, LLC\": \"Management Consulting\",\n",
        "  \"AKS University, Satna (M.P.)\": \"Education & Research\",\n",
        "  \"Smaart Classes\": \"Education & Research\",\n",
        "  \"DEWI Foundation\": \"Nonprofit & Foundations\",\n",
        "  \"Executive Placement Network\": \"Recruitment & Professional Services\",\n",
        "  \"Optum\": \"Pharmaceuticals & Healthcare\",\n",
        "  \"AINE AI\": \"Technology\",\n",
        "  \"SecurityScorecard\": \"Technology\",\n",
        "  \"UnShaadi\": \"Other / Freelance / Startups\",\n",
        "  \"Cisco\": \"Technology\",\n",
        "  \"Stamford AI Consulting\": \"Technology\",\n",
        "  \"Marvell Technology\": \"Technology\",\n",
        "  \"shikhar stone crushers/\": \"Energy & Industrial\",\n",
        "  \"RedSeer\": \"Management Consulting\",\n",
        "  \"Chubb\": \"Insurance\",\n",
        "  \"PPG\": \"Energy & Industrial\",\n",
        "  \"Rayonsoft Technologies Inc\": \"Technology\",\n",
        "  \"TopSkill Managment Consulting LLP\": \"Management Consulting\",\n",
        "  \"Capabilities Limited\": \"Management Consulting\",\n",
        "  \"HiThrive\": \"Other / Freelance / Startups\",\n",
        "  \"Infoparks Kerala\": \"Government & Public Sector\",\n",
        "  \"Island Boys Recruiting\": \"Recruitment & Professional Services\",\n",
        "  \"Alleyoop\": \"Technology\",\n",
        "  \"VMware\": \"Technology\",\n",
        "  \"Spectrum Equity\": \"Financial Services\",\n",
        "  \"Rippling\": \"Technology\",\n",
        "  \"Dexcom\": \"Pharmaceuticals & Healthcare\",\n",
        "  \"YoloHealth\": \"Technology\",\n",
        "  \"Graviton Research Capital LLP\": \"Financial Services\",\n",
        "  \"TechSur Solutions\": \"Technology\"\n",
        "}\n"
      ],
      "metadata": {
        "id": "iGNh3_csmC7E"
      },
      "execution_count": 15,
      "outputs": []
    },
    {
      "cell_type": "code",
      "source": [
        "company_industry_df = df['Company'].value_counts().reset_index()\n",
        "company_industry_df.columns = ['Company', 'Count']\n",
        "company_industry_df['Industry'] = company_industry_df['Company'].map(company_industry_mapping_v1)\n",
        "company_industry_df.sort_values(by='Count', ascending=False)\n",
        "company_industry_df = company_industry_df.dropna(subset=['Industry'])\n",
        "company_industry_df.shape[0]"
      ],
      "metadata": {
        "colab": {
          "base_uri": "https://localhost:8080/"
        },
        "id": "dcS_x7NQnMI3",
        "outputId": "f4229870-f8ff-44a1-ffb7-fb899dc3e25a"
      },
      "execution_count": 16,
      "outputs": [
        {
          "output_type": "execute_result",
          "data": {
            "text/plain": [
              "99"
            ]
          },
          "metadata": {},
          "execution_count": 16
        }
      ]
    },
    {
      "cell_type": "code",
      "source": [
        "# Sum counts for both rows\n",
        "audible_total = company_industry_df.loc[company_industry_df['Company'].isin(['Audible', 'Audible, Inc.']), 'Count'].sum()\n",
        "\n",
        "print(audible_total)\n",
        "\n",
        "industry = company_industry_df.loc[company_industry_df['Company'].isin(['Audible', 'Audible, Inc.']), 'Industry'].iloc[0]\n",
        "\n",
        "# Drop both rows\n",
        "company_industry_df = company_industry_df[~company_industry_df['Company'].isin(['Audible', 'Audible, Inc.'])]\n",
        "\n",
        "# Add a new combined row\n",
        "company_industry_df.loc[len(company_industry_df)] = ['Audible', audible_total, industry]\n",
        "\n",
        "company_industry_df.sort_values(by='Count', ascending=False, inplace=True)\n",
        "company_industry_df.head(10)"
      ],
      "metadata": {
        "colab": {
          "base_uri": "https://localhost:8080/",
          "height": 490
        },
        "id": "j_D7HTHGo_L2",
        "outputId": "4414edc3-b28c-4f33-ab2c-4d9e0387ee01"
      },
      "execution_count": 17,
      "outputs": [
        {
          "output_type": "stream",
          "name": "stdout",
          "text": [
            "21\n"
          ]
        },
        {
          "output_type": "stream",
          "name": "stderr",
          "text": [
            "<ipython-input-17-1543773579>:14: SettingWithCopyWarning: \n",
            "A value is trying to be set on a copy of a slice from a DataFrame\n",
            "\n",
            "See the caveats in the documentation: https://pandas.pydata.org/pandas-docs/stable/user_guide/indexing.html#returning-a-view-versus-a-copy\n",
            "  company_industry_df.sort_values(by='Count', ascending=False, inplace=True)\n"
          ]
        },
        {
          "output_type": "execute_result",
          "data": {
            "text/plain": [
              "                          Company  Count               Industry\n",
              "97                        Audible     21             Technology\n",
              "1                          Amazon     17             E-commerce\n",
              "2                            Meta     12             Technology\n",
              "3                          Google      6             Technology\n",
              "4                           Apple      5         Consumer Goods\n",
              "7                       Microsoft      4             Technology\n",
              "8       Amazon Web Services (AWS)      4             Technology\n",
              "9              McKinsey & Company      4  Management Consulting\n",
              "6   Boston Consulting Group (BCG)      4  Management Consulting\n",
              "11                             ZS      3  Management Consulting"
            ],
            "text/html": [
              "\n",
              "  <div id=\"df-149e46ef-164c-4699-ad29-1fb576cb5960\" class=\"colab-df-container\">\n",
              "    <div>\n",
              "<style scoped>\n",
              "    .dataframe tbody tr th:only-of-type {\n",
              "        vertical-align: middle;\n",
              "    }\n",
              "\n",
              "    .dataframe tbody tr th {\n",
              "        vertical-align: top;\n",
              "    }\n",
              "\n",
              "    .dataframe thead th {\n",
              "        text-align: right;\n",
              "    }\n",
              "</style>\n",
              "<table border=\"1\" class=\"dataframe\">\n",
              "  <thead>\n",
              "    <tr style=\"text-align: right;\">\n",
              "      <th></th>\n",
              "      <th>Company</th>\n",
              "      <th>Count</th>\n",
              "      <th>Industry</th>\n",
              "    </tr>\n",
              "  </thead>\n",
              "  <tbody>\n",
              "    <tr>\n",
              "      <th>97</th>\n",
              "      <td>Audible</td>\n",
              "      <td>21</td>\n",
              "      <td>Technology</td>\n",
              "    </tr>\n",
              "    <tr>\n",
              "      <th>1</th>\n",
              "      <td>Amazon</td>\n",
              "      <td>17</td>\n",
              "      <td>E-commerce</td>\n",
              "    </tr>\n",
              "    <tr>\n",
              "      <th>2</th>\n",
              "      <td>Meta</td>\n",
              "      <td>12</td>\n",
              "      <td>Technology</td>\n",
              "    </tr>\n",
              "    <tr>\n",
              "      <th>3</th>\n",
              "      <td>Google</td>\n",
              "      <td>6</td>\n",
              "      <td>Technology</td>\n",
              "    </tr>\n",
              "    <tr>\n",
              "      <th>4</th>\n",
              "      <td>Apple</td>\n",
              "      <td>5</td>\n",
              "      <td>Consumer Goods</td>\n",
              "    </tr>\n",
              "    <tr>\n",
              "      <th>7</th>\n",
              "      <td>Microsoft</td>\n",
              "      <td>4</td>\n",
              "      <td>Technology</td>\n",
              "    </tr>\n",
              "    <tr>\n",
              "      <th>8</th>\n",
              "      <td>Amazon Web Services (AWS)</td>\n",
              "      <td>4</td>\n",
              "      <td>Technology</td>\n",
              "    </tr>\n",
              "    <tr>\n",
              "      <th>9</th>\n",
              "      <td>McKinsey &amp; Company</td>\n",
              "      <td>4</td>\n",
              "      <td>Management Consulting</td>\n",
              "    </tr>\n",
              "    <tr>\n",
              "      <th>6</th>\n",
              "      <td>Boston Consulting Group (BCG)</td>\n",
              "      <td>4</td>\n",
              "      <td>Management Consulting</td>\n",
              "    </tr>\n",
              "    <tr>\n",
              "      <th>11</th>\n",
              "      <td>ZS</td>\n",
              "      <td>3</td>\n",
              "      <td>Management Consulting</td>\n",
              "    </tr>\n",
              "  </tbody>\n",
              "</table>\n",
              "</div>\n",
              "    <div class=\"colab-df-buttons\">\n",
              "\n",
              "  <div class=\"colab-df-container\">\n",
              "    <button class=\"colab-df-convert\" onclick=\"convertToInteractive('df-149e46ef-164c-4699-ad29-1fb576cb5960')\"\n",
              "            title=\"Convert this dataframe to an interactive table.\"\n",
              "            style=\"display:none;\">\n",
              "\n",
              "  <svg xmlns=\"http://www.w3.org/2000/svg\" height=\"24px\" viewBox=\"0 -960 960 960\">\n",
              "    <path d=\"M120-120v-720h720v720H120Zm60-500h600v-160H180v160Zm220 220h160v-160H400v160Zm0 220h160v-160H400v160ZM180-400h160v-160H180v160Zm440 0h160v-160H620v160ZM180-180h160v-160H180v160Zm440 0h160v-160H620v160Z\"/>\n",
              "  </svg>\n",
              "    </button>\n",
              "\n",
              "  <style>\n",
              "    .colab-df-container {\n",
              "      display:flex;\n",
              "      gap: 12px;\n",
              "    }\n",
              "\n",
              "    .colab-df-convert {\n",
              "      background-color: #E8F0FE;\n",
              "      border: none;\n",
              "      border-radius: 50%;\n",
              "      cursor: pointer;\n",
              "      display: none;\n",
              "      fill: #1967D2;\n",
              "      height: 32px;\n",
              "      padding: 0 0 0 0;\n",
              "      width: 32px;\n",
              "    }\n",
              "\n",
              "    .colab-df-convert:hover {\n",
              "      background-color: #E2EBFA;\n",
              "      box-shadow: 0px 1px 2px rgba(60, 64, 67, 0.3), 0px 1px 3px 1px rgba(60, 64, 67, 0.15);\n",
              "      fill: #174EA6;\n",
              "    }\n",
              "\n",
              "    .colab-df-buttons div {\n",
              "      margin-bottom: 4px;\n",
              "    }\n",
              "\n",
              "    [theme=dark] .colab-df-convert {\n",
              "      background-color: #3B4455;\n",
              "      fill: #D2E3FC;\n",
              "    }\n",
              "\n",
              "    [theme=dark] .colab-df-convert:hover {\n",
              "      background-color: #434B5C;\n",
              "      box-shadow: 0px 1px 3px 1px rgba(0, 0, 0, 0.15);\n",
              "      filter: drop-shadow(0px 1px 2px rgba(0, 0, 0, 0.3));\n",
              "      fill: #FFFFFF;\n",
              "    }\n",
              "  </style>\n",
              "\n",
              "    <script>\n",
              "      const buttonEl =\n",
              "        document.querySelector('#df-149e46ef-164c-4699-ad29-1fb576cb5960 button.colab-df-convert');\n",
              "      buttonEl.style.display =\n",
              "        google.colab.kernel.accessAllowed ? 'block' : 'none';\n",
              "\n",
              "      async function convertToInteractive(key) {\n",
              "        const element = document.querySelector('#df-149e46ef-164c-4699-ad29-1fb576cb5960');\n",
              "        const dataTable =\n",
              "          await google.colab.kernel.invokeFunction('convertToInteractive',\n",
              "                                                    [key], {});\n",
              "        if (!dataTable) return;\n",
              "\n",
              "        const docLinkHtml = 'Like what you see? Visit the ' +\n",
              "          '<a target=\"_blank\" href=https://colab.research.google.com/notebooks/data_table.ipynb>data table notebook</a>'\n",
              "          + ' to learn more about interactive tables.';\n",
              "        element.innerHTML = '';\n",
              "        dataTable['output_type'] = 'display_data';\n",
              "        await google.colab.output.renderOutput(dataTable, element);\n",
              "        const docLink = document.createElement('div');\n",
              "        docLink.innerHTML = docLinkHtml;\n",
              "        element.appendChild(docLink);\n",
              "      }\n",
              "    </script>\n",
              "  </div>\n",
              "\n",
              "\n",
              "    <div id=\"df-17b440fa-9857-4807-b58a-e381b186b581\">\n",
              "      <button class=\"colab-df-quickchart\" onclick=\"quickchart('df-17b440fa-9857-4807-b58a-e381b186b581')\"\n",
              "                title=\"Suggest charts\"\n",
              "                style=\"display:none;\">\n",
              "\n",
              "<svg xmlns=\"http://www.w3.org/2000/svg\" height=\"24px\"viewBox=\"0 0 24 24\"\n",
              "     width=\"24px\">\n",
              "    <g>\n",
              "        <path d=\"M19 3H5c-1.1 0-2 .9-2 2v14c0 1.1.9 2 2 2h14c1.1 0 2-.9 2-2V5c0-1.1-.9-2-2-2zM9 17H7v-7h2v7zm4 0h-2V7h2v10zm4 0h-2v-4h2v4z\"/>\n",
              "    </g>\n",
              "</svg>\n",
              "      </button>\n",
              "\n",
              "<style>\n",
              "  .colab-df-quickchart {\n",
              "      --bg-color: #E8F0FE;\n",
              "      --fill-color: #1967D2;\n",
              "      --hover-bg-color: #E2EBFA;\n",
              "      --hover-fill-color: #174EA6;\n",
              "      --disabled-fill-color: #AAA;\n",
              "      --disabled-bg-color: #DDD;\n",
              "  }\n",
              "\n",
              "  [theme=dark] .colab-df-quickchart {\n",
              "      --bg-color: #3B4455;\n",
              "      --fill-color: #D2E3FC;\n",
              "      --hover-bg-color: #434B5C;\n",
              "      --hover-fill-color: #FFFFFF;\n",
              "      --disabled-bg-color: #3B4455;\n",
              "      --disabled-fill-color: #666;\n",
              "  }\n",
              "\n",
              "  .colab-df-quickchart {\n",
              "    background-color: var(--bg-color);\n",
              "    border: none;\n",
              "    border-radius: 50%;\n",
              "    cursor: pointer;\n",
              "    display: none;\n",
              "    fill: var(--fill-color);\n",
              "    height: 32px;\n",
              "    padding: 0;\n",
              "    width: 32px;\n",
              "  }\n",
              "\n",
              "  .colab-df-quickchart:hover {\n",
              "    background-color: var(--hover-bg-color);\n",
              "    box-shadow: 0 1px 2px rgba(60, 64, 67, 0.3), 0 1px 3px 1px rgba(60, 64, 67, 0.15);\n",
              "    fill: var(--button-hover-fill-color);\n",
              "  }\n",
              "\n",
              "  .colab-df-quickchart-complete:disabled,\n",
              "  .colab-df-quickchart-complete:disabled:hover {\n",
              "    background-color: var(--disabled-bg-color);\n",
              "    fill: var(--disabled-fill-color);\n",
              "    box-shadow: none;\n",
              "  }\n",
              "\n",
              "  .colab-df-spinner {\n",
              "    border: 2px solid var(--fill-color);\n",
              "    border-color: transparent;\n",
              "    border-bottom-color: var(--fill-color);\n",
              "    animation:\n",
              "      spin 1s steps(1) infinite;\n",
              "  }\n",
              "\n",
              "  @keyframes spin {\n",
              "    0% {\n",
              "      border-color: transparent;\n",
              "      border-bottom-color: var(--fill-color);\n",
              "      border-left-color: var(--fill-color);\n",
              "    }\n",
              "    20% {\n",
              "      border-color: transparent;\n",
              "      border-left-color: var(--fill-color);\n",
              "      border-top-color: var(--fill-color);\n",
              "    }\n",
              "    30% {\n",
              "      border-color: transparent;\n",
              "      border-left-color: var(--fill-color);\n",
              "      border-top-color: var(--fill-color);\n",
              "      border-right-color: var(--fill-color);\n",
              "    }\n",
              "    40% {\n",
              "      border-color: transparent;\n",
              "      border-right-color: var(--fill-color);\n",
              "      border-top-color: var(--fill-color);\n",
              "    }\n",
              "    60% {\n",
              "      border-color: transparent;\n",
              "      border-right-color: var(--fill-color);\n",
              "    }\n",
              "    80% {\n",
              "      border-color: transparent;\n",
              "      border-right-color: var(--fill-color);\n",
              "      border-bottom-color: var(--fill-color);\n",
              "    }\n",
              "    90% {\n",
              "      border-color: transparent;\n",
              "      border-bottom-color: var(--fill-color);\n",
              "    }\n",
              "  }\n",
              "</style>\n",
              "\n",
              "      <script>\n",
              "        async function quickchart(key) {\n",
              "          const quickchartButtonEl =\n",
              "            document.querySelector('#' + key + ' button');\n",
              "          quickchartButtonEl.disabled = true;  // To prevent multiple clicks.\n",
              "          quickchartButtonEl.classList.add('colab-df-spinner');\n",
              "          try {\n",
              "            const charts = await google.colab.kernel.invokeFunction(\n",
              "                'suggestCharts', [key], {});\n",
              "          } catch (error) {\n",
              "            console.error('Error during call to suggestCharts:', error);\n",
              "          }\n",
              "          quickchartButtonEl.classList.remove('colab-df-spinner');\n",
              "          quickchartButtonEl.classList.add('colab-df-quickchart-complete');\n",
              "        }\n",
              "        (() => {\n",
              "          let quickchartButtonEl =\n",
              "            document.querySelector('#df-17b440fa-9857-4807-b58a-e381b186b581 button');\n",
              "          quickchartButtonEl.style.display =\n",
              "            google.colab.kernel.accessAllowed ? 'block' : 'none';\n",
              "        })();\n",
              "      </script>\n",
              "    </div>\n",
              "\n",
              "    </div>\n",
              "  </div>\n"
            ],
            "application/vnd.google.colaboratory.intrinsic+json": {
              "type": "dataframe",
              "variable_name": "company_industry_df",
              "summary": "{\n  \"name\": \"company_industry_df\",\n  \"rows\": 97,\n  \"fields\": [\n    {\n      \"column\": \"Company\",\n      \"properties\": {\n        \"dtype\": \"string\",\n        \"num_unique_values\": 97,\n        \"samples\": [\n          \"Kenvue\",\n          \"American Express\",\n          \"Rippling\"\n        ],\n        \"semantic_type\": \"\",\n        \"description\": \"\"\n      }\n    },\n    {\n      \"column\": \"Count\",\n      \"properties\": {\n        \"dtype\": \"number\",\n        \"std\": 2,\n        \"min\": 1,\n        \"max\": 21,\n        \"num_unique_values\": 9,\n        \"samples\": [\n          2,\n          17,\n          4\n        ],\n        \"semantic_type\": \"\",\n        \"description\": \"\"\n      }\n    },\n    {\n      \"column\": \"Industry\",\n      \"properties\": {\n        \"dtype\": \"category\",\n        \"num_unique_values\": 16,\n        \"samples\": [\n          \"Technology\",\n          \"E-commerce\",\n          \"Media & Entertainment\"\n        ],\n        \"semantic_type\": \"\",\n        \"description\": \"\"\n      }\n    }\n  ]\n}"
            }
          },
          "metadata": {},
          "execution_count": 17
        }
      ]
    },
    {
      "cell_type": "code",
      "source": [
        "# Extract values\n",
        "values = set(company_industry_mapping_v1.values())\n",
        "print(values)\n",
        "print(len(values))"
      ],
      "metadata": {
        "colab": {
          "base_uri": "https://localhost:8080/"
        },
        "id": "_Jemy5w7mbej",
        "outputId": "1ed8c33f-81aa-4824-fd13-edc9bc725091"
      },
      "execution_count": 18,
      "outputs": [
        {
          "output_type": "stream",
          "name": "stdout",
          "text": [
            "{'Technology', 'Telecommunications', 'Consumer Goods', 'E-commerce', 'Other / Freelance / Startups', 'Insurance', 'Government & Public Sector', 'Pharmaceuticals & Healthcare', 'Financial Services', 'Education & Research', 'Energy & Industrial', 'Nonprofit & Foundations', 'Recruitment & Professional Services', 'Management Consulting', 'Architecture & Urban Design', 'Media & Entertainment'}\n",
            "16\n"
          ]
        }
      ]
    },
    {
      "cell_type": "code",
      "source": [
        "from pyvis.network import Network\n",
        "import math\n",
        "\n",
        "# list of industries\n",
        "industries = company_industry_df['Industry'].unique()\n",
        "\n",
        "# Setup\n",
        "net = Network(height=\"750px\", width=\"100%\", bgcolor=\"white\", font_color=\"black\")\n",
        "\n",
        "# Network options\n",
        "net.set_options(\"\"\"\n",
        "var options = {\n",
        "  \"physics\": {\n",
        "    \"solver\": \"forceAtlas2Based\",\n",
        "    \"forceAtlas2Based\": {\n",
        "      \"gravitationalConstant\": -50,\n",
        "      \"centralGravity\": 0.01,\n",
        "      \"springLength\": 150,\n",
        "      \"springConstant\": 0.08\n",
        "    },\n",
        "    \"stabilization\": { \"iterations\": 150 }\n",
        "  }\n",
        "}\n",
        "\"\"\")\n",
        "\n",
        "# Position 16 industry nodes in a circle\n",
        "radius = 400\n",
        "angle_step = 2 * math.pi / len(industries)\n",
        "\n",
        "industry_positions = {}\n",
        "for i, industry in enumerate(industries):\n",
        "    angle = i * angle_step\n",
        "    x = radius * math.cos(angle)\n",
        "    y = radius * math.sin(angle)\n",
        "    industry_positions[industry] = (x, y)\n",
        "\n",
        "    net.add_node(industry,\n",
        "                 label=industry,\n",
        "                 title=industry,\n",
        "                 x=x,\n",
        "                 y=y,\n",
        "                 fixed=True,\n",
        "                 color=category_to_color(industry, industries),\n",
        "                 shape='dot',\n",
        "                 size=40,\n",
        "                 )\n",
        "\n",
        "\n",
        "for _, row in company_industry_df.iterrows():\n",
        "  company = row['Company']\n",
        "  industry = row['Industry']\n",
        "  weight = row['Count']\n",
        "\n",
        "  net.add_node(company,\n",
        "               label=company,\n",
        "               title=company,\n",
        "               shape='dot',\n",
        "               size=20,\n",
        "               fixed=False,\n",
        "               color=category_to_color(row['Industry'], industries),\n",
        ")\n",
        "\n",
        "  net.add_edge(industry, company, value=weight)\n",
        "\n",
        "net.save_graph(\"linkedin_company_network.html\")\n",
        "files.download(\"linkedin_company_network.html\")"
      ],
      "metadata": {
        "colab": {
          "base_uri": "https://localhost:8080/",
          "height": 17
        },
        "id": "nOJRHov5BBOB",
        "outputId": "65df7d22-5d1d-4862-fa1d-b5a3136fc1a2"
      },
      "execution_count": 20,
      "outputs": [
        {
          "output_type": "display_data",
          "data": {
            "text/plain": [
              "<IPython.core.display.Javascript object>"
            ],
            "application/javascript": [
              "\n",
              "    async function download(id, filename, size) {\n",
              "      if (!google.colab.kernel.accessAllowed) {\n",
              "        return;\n",
              "      }\n",
              "      const div = document.createElement('div');\n",
              "      const label = document.createElement('label');\n",
              "      label.textContent = `Downloading \"${filename}\": `;\n",
              "      div.appendChild(label);\n",
              "      const progress = document.createElement('progress');\n",
              "      progress.max = size;\n",
              "      div.appendChild(progress);\n",
              "      document.body.appendChild(div);\n",
              "\n",
              "      const buffers = [];\n",
              "      let downloaded = 0;\n",
              "\n",
              "      const channel = await google.colab.kernel.comms.open(id);\n",
              "      // Send a message to notify the kernel that we're ready.\n",
              "      channel.send({})\n",
              "\n",
              "      for await (const message of channel.messages) {\n",
              "        // Send a message to notify the kernel that we're ready.\n",
              "        channel.send({})\n",
              "        if (message.buffers) {\n",
              "          for (const buffer of message.buffers) {\n",
              "            buffers.push(buffer);\n",
              "            downloaded += buffer.byteLength;\n",
              "            progress.value = downloaded;\n",
              "          }\n",
              "        }\n",
              "      }\n",
              "      const blob = new Blob(buffers, {type: 'application/binary'});\n",
              "      const a = document.createElement('a');\n",
              "      a.href = window.URL.createObjectURL(blob);\n",
              "      a.download = filename;\n",
              "      div.appendChild(a);\n",
              "      a.click();\n",
              "      div.remove();\n",
              "    }\n",
              "  "
            ]
          },
          "metadata": {}
        },
        {
          "output_type": "display_data",
          "data": {
            "text/plain": [
              "<IPython.core.display.Javascript object>"
            ],
            "application/javascript": [
              "download(\"download_19f1bb34-0523-4ad4-960c-3df933b89824\", \"linkedin_company_network.html\", 35507)"
            ]
          },
          "metadata": {}
        }
      ]
    },
    {
      "cell_type": "markdown",
      "source": [
        "# Helper functions"
      ],
      "metadata": {
        "id": "dd70nSGmwbiH"
      }
    },
    {
      "cell_type": "code",
      "source": [
        "import matplotlib.pyplot as plt\n",
        "\n",
        "def get_25_colors():\n",
        "    # Combine tab10 and tab20 to get 30 unique colors\n",
        "    cmap1 = plt.get_cmap('tab10')  # 10 colors\n",
        "    cmap2 = plt.get_cmap('tab20')  # 20 colors\n",
        "\n",
        "    colors = []\n",
        "    for i in range(10):\n",
        "        colors.append(cmap1(i))\n",
        "    for i in range(15):  # just take 15 from tab20 to make 25 total\n",
        "        colors.append(cmap2(i))\n",
        "\n",
        "    # Convert RGBA to hex\n",
        "    hex_colors = ['#%02x%02x%02x' % tuple(int(255 * c) for c in color[:3]) for color in colors]\n",
        "    return hex_colors\n",
        "\n",
        "def category_to_color(category, categories):\n",
        "    color_list = get_25_colors()\n",
        "    category_map = {cat: color_list[i % len(color_list)] for i, cat in enumerate(categories)}\n",
        "    return category_map.get(category, '#999999')  # fallback gray"
      ],
      "metadata": {
        "id": "l0_KoCTUKeHn"
      },
      "execution_count": 13,
      "outputs": []
    },
    {
      "cell_type": "code",
      "source": [
        "import string\n",
        "\n",
        "def consolidate_positions(position):\n",
        "  position = position.lower()\n",
        "  position = consolidate_ceo_roles(position)\n",
        "  position = consolidate_dev_roles(position)\n",
        "  return string.capwords(position)\n",
        "\n",
        "def consolidate_ceo_roles(position):\n",
        "  if (\"founder\" in position) and (\"ceo\" in position):\n",
        "    return \"Founder & CEO\"\n",
        "  elif \"founder\" in position:\n",
        "    return \"Founder\"\n",
        "  elif \"ceo\" in position or \"chief executive officer\" in position:\n",
        "    return \"CEO\"\n",
        "  elif \"co-founder\" in position and \"ceo\" in position:\n",
        "    return \"Co-Founder & CEO\"\n",
        "  elif \"co-founder\" in position:\n",
        "    return \"Co-Founder\"\n",
        "  else:\n",
        "    return position\n",
        "\n",
        "\n",
        "def consolidate_dev_roles(position):\n",
        "  if (\"software development engineer\" in position) or (\"software development engineer i\" in position):\n",
        "    return \"Software Engineer\"\n",
        "  elif \"software development engineer ii\" in position or \"senior software engineer\" in position:\n",
        "    return \"Senior Software Engineer\"\n",
        "  elif \"developer\" in position or \"mobile\" in position or \"ios\" in position or \"android\" in position:\n",
        "    return \"Software Engineer\"\n",
        "  else:\n",
        "    return position"
      ],
      "metadata": {
        "id": "SB_zTGpelf0k"
      },
      "execution_count": 7,
      "outputs": []
    },
    {
      "cell_type": "code",
      "source": [
        "def string_contains_any(text, elements):\n",
        "    \"\"\"\n",
        "    Checks if a string contains any of the elements from a list.\n",
        "\n",
        "    Args:\n",
        "        text: The string to search in.\n",
        "        elements: A list of strings to search for.\n",
        "\n",
        "    Returns:\n",
        "        True if the string contains at least one element from the list, False otherwise.\n",
        "    \"\"\"\n",
        "    return any(element in text for element in elements)"
      ],
      "metadata": {
        "id": "Pp-HGUXrjiJt"
      },
      "execution_count": 8,
      "outputs": []
    },
    {
      "cell_type": "code",
      "source": [
        "def categorize_position(position):\n",
        "  position = position.lower()\n",
        "  if string_contains_any(position, ['educat', 'lecturer', 'faculty', \"postdoctoral\", \"phd\", \"bachelor\", 'bs', 'ms', 'masters', 'professor', 'teach', 'graduate']):\n",
        "    return \"Academia\"\n",
        "  elif string_contains_any(position, [\"hr\", \"people\", \"recruit\", 'talent']):\n",
        "    return \"HR\"\n",
        "  elif string_contains_any(position, [\"intern\", \"internship\", \"interim\"]):\n",
        "    return \"Internship\"\n",
        "  elif string_contains_any(position, [\"data\", \"ml\", \"machine learning\", 'analyst']):\n",
        "    return \"Data\"\n",
        "  elif string_contains_any(position, [\"qa\", \"quality\", \"assurance\", \"test\"]):\n",
        "    return \"QA\"\n",
        "  elif string_contains_any(position, [\"engineer\", \"software\", 'ios', 'android', 'mobile developer']):\n",
        "    return \"Engineering\"\n",
        "  elif \"sales\" in position:\n",
        "    return \"Sales\"\n",
        "  elif string_contains_any(position, ['brand', 'marketing']):\n",
        "    return \"Marketing\"\n",
        "  elif string_contains_any(position, ['ux', 'ui', 'design']):\n",
        "    return \"UX\"\n",
        "  elif string_contains_any(position, ['fincance', 'trade', 'insurance', 'invest', 'credit', 'actuarial']):\n",
        "    return \"Finance\"\n",
        "  elif \"operations\" in position:\n",
        "    return \"Operations\"\n",
        "  elif string_contains_any(position, ['pm', 'product']):\n",
        "    return \"Product\"\n",
        "  elif string_contains_any(position, ['founder', 'ceo', 'owner', 'chief executive officer']):\n",
        "    return \"Founder\"\n",
        "  elif string_contains_any(position, [\"research\", \"scientist\", 'r&d']):\n",
        "    return \"Research\"\n",
        "  elif string_contains_any(position, ['md', 'executive', 'lead', 'business', 'advisor', 'cfo', 'cto', 'cmo', 'partner', 'head', 'manager', 'leader', 'president', 'director', 'vp', 'consultant', 'principal', 'chief']):\n",
        "    return \"Management\"\n",
        "  elif string_contains_any(position, ['doctor', 'chemist', 'dentist', 'surgeon', 'physician']):\n",
        "    return \"Medicine\"\n",
        "  elif string_contains_any(position, ['legal', 'law', 'attorney']):\n",
        "    return \"Legal\"\n",
        "  else:\n",
        "    return \"Other\"\n",
        ""
      ],
      "metadata": {
        "id": "aWM9ua9eiK1E"
      },
      "execution_count": 9,
      "outputs": []
    },
    {
      "cell_type": "code",
      "source": [
        "def categorize_engineering(position):\n",
        "  position = position.lower()\n",
        "  if string_contains_any(position, ['ios', 'mobile', 'android']):\n",
        "    return \"Mobile\"\n",
        "  elif string_contains_any(position, [\"stack\", \"java\", \"python\", \"sofware\"]):\n",
        "    return \"Backend\"\n",
        "  elif string_contains_any(position, [\"architect\", \"aws\", \"azure\", \"hardware\"]):\n",
        "    return \"Solutions Architect\"\n",
        "  elif string_contains_any(position, [\"data\", \"ml\", \"machine learning\", 'analyst']):\n",
        "    return \"Data Engineer\"\n",
        "  elif string_contains_any(position, [\"qa\", \"quality assurance\", \"test\"]):\n",
        "    return \"QA\"\n",
        "  elif string_contains_any(position, ['ux', 'ui', 'design']):\n",
        "    return \"UX\"\n",
        "  else:\n",
        "    return \"Engineering\""
      ],
      "metadata": {
        "id": "e7PqukVYG-A5"
      },
      "execution_count": 10,
      "outputs": []
    },
    {
      "cell_type": "code",
      "source": [
        "def categorize_management(position):\n",
        "  position = position.lower()\n",
        "  if string_contains_any(position, ['founder', 'ceo', 'owner', 'chief executive officer', \"entrepreneur\"]):\n",
        "    return \"Founder\"\n",
        "  elif string_contains_any(position, [\"md\", 'chief', \"executive\", 'partner', 'head', 'lead', 'president', 'principal', 'director']):\n",
        "    return \"Leadership\"\n",
        "  else:\n",
        "    return \"Management\"\n"
      ],
      "metadata": {
        "id": "4oJIDWEnH8PA"
      },
      "execution_count": 11,
      "outputs": []
    },
    {
      "cell_type": "code",
      "source": [
        "# Use the OpenAI API instead for categorizing the companies into industries.\n",
        "\n",
        "import openai\n",
        "import json\n",
        "\n",
        "openai.api_key = \"your api key\"\n",
        "\n",
        "# Construct the prompt\n",
        "companies_string = \"\\n\".join(f\"- {name}\" for name in companies)\n",
        "prompt = (\n",
        "    \"Here is a list of 100 companies:\\n\"\n",
        "    f\"{companies_string}\\n\\n\"\n",
        "    \"Please classify these companies into 15 to 20 industry categories based on your understanding. \"\n",
        "    \"Return the result as a JSON object where each key is a company name and the value is the inferred industry. \"\n",
        "    \"Ensure consistency in industry names across companies. Example format:\\n\"\n",
        "    \"{\\n  \\\"Meta\\\": \\\"Technology\\\",\\n  \\\"Pfizer\\\": \\\"Healthcare\\\",\\n  ...\\n}\"\n",
        ")\n",
        "\n",
        "# Create chat completion\n",
        "response = openai.chat.completions.create(\n",
        "    model=\"gpt-4o\",\n",
        "    messages=[{\"role\": \"user\", \"content\": prompt}],\n",
        "    temperature=0.2,\n",
        "    max_tokens=2000\n",
        ")\n",
        "\n",
        "# Get and parse the response\n",
        "response_text = response.choices[0].message.content.strip()\n",
        "\n",
        "try:\n",
        "    industry_mapping = json.loads(response_text)\n",
        "except json.JSONDecodeError:\n",
        "    print(\"JSON decoding failed. Here is the raw output:\\n\")\n",
        "    print(response_text)\n",
        "    industry_mapping = {}\n",
        "\n",
        "# Save to file\n",
        "with open(\"company_industries_bulk.json\", \"w\") as f:\n",
        "    json.dump(industry_mapping, f, indent=2)\n",
        "\n",
        "print(\"Done! Industry mapping saved to 'company_industries_bulk.json'\")\n",
        "\n"
      ],
      "metadata": {
        "id": "Yw0aEXk23lcu"
      },
      "execution_count": null,
      "outputs": []
    }
  ]
}